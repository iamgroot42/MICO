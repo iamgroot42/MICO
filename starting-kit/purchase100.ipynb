{
 "cells": [
  {
   "cell_type": "code",
   "execution_count": 1,
   "metadata": {},
   "outputs": [],
   "source": [
    "import os\n",
    "import urllib\n",
    "\n",
    "from torchvision.datasets.utils import download_and_extract_archive\n",
    "from sklearn.metrics import roc_curve, roc_auc_score\n",
    "\n",
    "from mico_competition.scoring import tpr_at_fpr, score, generate_roc, generate_table\n",
    "from sklearn.metrics import roc_curve, roc_auc_score\n",
    "\n",
    "import numpy as np\n",
    "import torch\n",
    "import csv\n",
    "import copy\n",
    "\n",
    "from torch.autograd import Variable\n",
    "from sklearn import metrics\n",
    "from tqdm.notebook import tqdm\n",
    "from torch.distributions import normal\n",
    "from torch.utils.data import DataLoader, Dataset\n",
    "from mico_competition import ChallengeDataset, load_purchase100, load_model\n",
    "from torch.distributions import Categorical\n",
    "import torch.nn.utils.prune as prune\n",
    "\n",
    "import pandas as pd\n",
    "import matplotlib.pyplot as plt\n",
    "import matplotlib\n",
    "import torch as ch\n",
    "import torch.nn as nn\n",
    "\n",
    "from sklearn.ensemble import RandomForestClassifier\n",
    "from sklearn.neural_network import MLPClassifier\n",
    "from sklearn.model_selection import train_test_split\n",
    "from sklearn.neighbors import KNeighborsClassifier\n",
    "from sklearn.naive_bayes import GaussianNB\n",
    "from sklearn.svm import SVC\n",
    "from sklearn.discriminant_analysis import QuadraticDiscriminantAnalysis\n",
    "from sklearn import preprocessing\n",
    "from sklearn.inspection import permutation_importance\n",
    "from sklearn.tree import DecisionTreeClassifier\n",
    "from sklearn.svm import SVC\n",
    "from sklearn.linear_model import LogisticRegression\n",
    "from sklearn.preprocessing import StandardScaler\n",
    "from sklearn.pipeline import make_pipeline\n",
    "from sklearn import tree\n",
    "from scipy.stats import norm"
   ]
  },
  {
   "cell_type": "code",
   "execution_count": 2,
   "metadata": {},
   "outputs": [],
   "source": [
    "from sklearn.ensemble import RandomForestClassifier\n",
    "from sklearn.neural_network import MLPClassifier\n",
    "from sklearn.model_selection import train_test_split\n",
    "from sklearn.neighbors import KNeighborsClassifier\n",
    "from sklearn.naive_bayes import GaussianNB\n",
    "from sklearn.svm import SVC\n",
    "from sklearn.discriminant_analysis import QuadraticDiscriminantAnalysis\n",
    "from sklearn import preprocessing\n",
    "from sklearn.inspection import permutation_importance\n",
    "from sklearn.tree import DecisionTreeClassifier\n",
    "from sklearn.svm import SVC\n",
    "from sklearn.linear_model import LogisticRegression\n",
    "from sklearn.preprocessing import StandardScaler\n",
    "from sklearn.pipeline import make_pipeline\n",
    "from sklearn import tree\n",
    "from sklearn.metrics import make_scorer\n",
    "from sklearn.model_selection import RandomizedSearchCV, GridSearchCV\n",
    "\n",
    "from xgboost import XGBClassifier\n",
    "import lightgbm as lgb"
   ]
  },
  {
   "cell_type": "code",
   "execution_count": 3,
   "metadata": {},
   "outputs": [],
   "source": [
    "from catboost import CatBoostClassifier\n",
    "from tpot import TPOTClassifier\n",
    "import autosklearn.classification"
   ]
  },
  {
   "cell_type": "code",
   "execution_count": 4,
   "metadata": {},
   "outputs": [],
   "source": [
    "def normalize_preds(preds):\n",
    "    # Normalize to unit interval\n",
    "    min_prediction = np.min(preds)\n",
    "    max_prediction = np.max(preds)\n",
    "    preds = (preds - min_prediction) / (max_prediction - min_prediction)\n",
    "    return preds"
   ]
  },
  {
   "cell_type": "code",
   "execution_count": 5,
   "metadata": {},
   "outputs": [],
   "source": [
    "def get_class_scaled_logits(model, features, labels):\n",
    "    outputs = model(features).detach().cpu().numpy()\n",
    "    num_classes = np.arange(outputs.shape[1])\n",
    "    values = []\n",
    "    for i, output in enumerate(outputs):\n",
    "        label = labels[i].item()\n",
    "        wanted = output[label]\n",
    "        not_wanted = output[np.delete(num_classes, label)]\n",
    "        values.append(wanted - np.max(not_wanted))\n",
    "    return np.array(values)"
   ]
  },
  {
   "cell_type": "code",
   "execution_count": 6,
   "metadata": {},
   "outputs": [],
   "source": [
    "# Collect \"training data\" using models from train split\n",
    "def collect_models():\n",
    "    CHALLENGE = \"purchase100\"\n",
    "    LEN_TRAINING = 150000\n",
    "    LEN_CHALLENGE = 100\n",
    "\n",
    "    scenarios = os.listdir(CHALLENGE)\n",
    "    phases = ['dev', 'final', 'train']\n",
    "\n",
    "    dataset = load_purchase100(dataset_dir=\"/u/as9rw/work/MICO/data\")\n",
    "\n",
    "    collected_models = {x:[] for x in scenarios}\n",
    "    phase = \"train\"\n",
    "    for scenario in tqdm(scenarios, desc=\"scenario\"):\n",
    "        root = os.path.join(CHALLENGE, scenario, phase)\n",
    "        for model_folder in tqdm(sorted(os.listdir(root), key=lambda d: int(d.split('_')[1])), desc=\"model\"):\n",
    "            path = os.path.join(root, model_folder)\n",
    "            challenge_dataset = ChallengeDataset.from_path(path, dataset=dataset, len_training=LEN_TRAINING)\n",
    "            challenge_points = challenge_dataset.get_challenges()\n",
    "            \n",
    "            model = load_model('purchase100', path)\n",
    "            collected_models[scenario].append(model)\n",
    "\n",
    "        collected_models[scenario] = np.array(collected_models[scenario], dtype=object)\n",
    "            \n",
    "    return collected_models"
   ]
  },
  {
   "cell_type": "code",
   "execution_count": 7,
   "metadata": {},
   "outputs": [
    {
     "name": "stdout",
     "output_type": "stream",
     "text": [
      "Successfully loaded the Purchase-100 dataset consisting of 197324 records and 600 attributes.\n"
     ]
    },
    {
     "data": {
      "application/vnd.jupyter.widget-view+json": {
       "model_id": "f9d84d85af1e48acb95bf0a3d5c76d1a",
       "version_major": 2,
       "version_minor": 0
      },
      "text/plain": [
       "scenario:   0%|          | 0/3 [00:00<?, ?it/s]"
      ]
     },
     "metadata": {},
     "output_type": "display_data"
    },
    {
     "data": {
      "application/vnd.jupyter.widget-view+json": {
       "model_id": "83b24a60f87645cb805b44866dbd404f",
       "version_major": 2,
       "version_minor": 0
      },
      "text/plain": [
       "model:   0%|          | 0/100 [00:00<?, ?it/s]"
      ]
     },
     "metadata": {},
     "output_type": "display_data"
    },
    {
     "data": {
      "application/vnd.jupyter.widget-view+json": {
       "model_id": "f37fe72f255b441c854d8fe729ca4950",
       "version_major": 2,
       "version_minor": 0
      },
      "text/plain": [
       "model:   0%|          | 0/100 [00:00<?, ?it/s]"
      ]
     },
     "metadata": {},
     "output_type": "display_data"
    },
    {
     "data": {
      "application/vnd.jupyter.widget-view+json": {
       "model_id": "8db257cd0f9f41e588d4d41f8863429e",
       "version_major": 2,
       "version_minor": 0
      },
      "text/plain": [
       "model:   0%|          | 0/100 [00:00<?, ?it/s]"
      ]
     },
     "metadata": {},
     "output_type": "display_data"
    }
   ],
   "source": [
    "train_models = collect_models()"
   ]
  },
  {
   "cell_type": "code",
   "execution_count": 8,
   "metadata": {},
   "outputs": [],
   "source": [
    "def get_class_scaled_logits(model, features, labels):\n",
    "    outputs = model(features).detach().cpu().numpy()\n",
    "    num_classes = np.arange(outputs.shape[1])\n",
    "    values = []\n",
    "    for i, output in enumerate(outputs):\n",
    "        label = labels[i].item()\n",
    "        wanted = output[label]\n",
    "        not_wanted = output[np.delete(num_classes, label)]\n",
    "        values.append(wanted - np.max(not_wanted))\n",
    "    return np.array(values)"
   ]
  },
  {
   "cell_type": "code",
   "execution_count": 11,
   "metadata": {},
   "outputs": [],
   "source": [
    "def ascent_recovery(model, features, labels, adv: bool = False):\n",
    "    criterion = torch.nn.CrossEntropyLoss(reduction='none')\n",
    "    n_times = 10\n",
    "    step_size = 0.01\n",
    "    final_losses, final_dist = [], []\n",
    "    for i, (feature, label) in enumerate(zip(features, labels)):\n",
    "        model.zero_grad()\n",
    "        feature_var = Variable(feature.clone().detach(), requires_grad=True)\n",
    "        for j in range(n_times):\n",
    "            feature_var = Variable(feature_var.clone().detach(), requires_grad=True)\n",
    "            loss = criterion(torch.unsqueeze(model(feature_var), 0), torch.unsqueeze(label, 0))\n",
    "            loss.backward(ch.ones_like(loss), retain_graph=True)\n",
    "            with ch.no_grad():\n",
    "                if adv:\n",
    "                    feature_var.data += step_size * feature_var.data\n",
    "                else:\n",
    "                    feature_var.data -= step_size * feature_var.data\n",
    "                loss_new = criterion(torch.unsqueeze(model(feature_var), 0), torch.unsqueeze(label, 0))\n",
    "        # Get reduction in loss\n",
    "        final_losses.append(loss.item() - loss_new.item())\n",
    "        # Get change in data (norm)\n",
    "        final_dist.append(ch.norm(feature_var.data - feature.data).detach().cpu().numpy())\n",
    "    final_losses = np.stack((final_losses, final_dist), 1)\n",
    "    return final_losses.reshape(-1, 2)"
   ]
  },
  {
   "cell_type": "code",
   "execution_count": 9,
   "metadata": {},
   "outputs": [],
   "source": [
    "def matt_modified_scores(model, features, labels, model_reference):\n",
    "    \"\"\"\n",
    "        MATT attack from https://arxiv.org/pdf/1908.11229.pdf\n",
    "        Modified to adapt to the availability of auxiliary models\n",
    "    \"\"\"\n",
    "    criterion = nn.CrossEntropyLoss(reduction='none')\n",
    "    cos = nn.CosineSimilarity(dim=0)\n",
    "    features_collected = []\n",
    "\n",
    "    # Make copy of model\n",
    "    model_ = copy.deepcopy(model)\n",
    "    model_.cuda()\n",
    "\n",
    "    for i, (feature, label) in enumerate(zip(features, labels)):\n",
    "        # Compute gradients with both models\n",
    "        model_.zero_grad()\n",
    "        model_reference.zero_grad()\n",
    "        loss = criterion(ch.unsqueeze(model_(feature), 0), ch.unsqueeze(label, 0))\n",
    "        loss_ref = criterion(ch.unsqueeze(model_reference(feature), 0), ch.unsqueeze(label, 0))\n",
    "        loss.backward()\n",
    "        loss_ref.backward()\n",
    "        \n",
    "        # Compute product\n",
    "        inner_features = []\n",
    "        for p1, p2 in zip(model_.parameters(), model_reference.parameters()):\n",
    "            term = ch.dot(p1.grad.detach().flatten(), p2.grad.detach().flatten()).item()\n",
    "            inner_features.append(term)\n",
    "        features_collected.append(inner_features)\n",
    "    features_collected = np.array(features_collected)\n",
    "    # Focus only on W0, W1\n",
    "    features_collected = features_collected[:, [0, 2]]\n",
    "    return features_collected"
   ]
  },
  {
   "cell_type": "code",
   "execution_count": 12,
   "metadata": {},
   "outputs": [],
   "source": [
    "def extended_epoch(model, features, labels):\n",
    "    \"\"\"\n",
    "        \"Train\" model on given data to see how much loss changes.\n",
    "        If was with DP, not seen many times (and with clipped gradient), so\n",
    "        expected loss decrease would be much more than that for some point\n",
    "        that has already been seen multiple times.\n",
    "        While at it, also take note of gradients\n",
    "    \"\"\"\n",
    "    lr = 0.0005\n",
    "    criterion = nn.CrossEntropyLoss(reduction='none')\n",
    "    features_collected = []\n",
    "    # Note losses currently\n",
    "    base_preds = model(features).detach()\n",
    "    base_losses = criterion(base_preds, labels).cpu().numpy()\n",
    "    for i, (feature, label) in enumerate(zip(features, labels)):\n",
    "        # Make copy of model\n",
    "        model_ = copy.deepcopy(model)\n",
    "        model_.train()\n",
    "        model_.cuda()\n",
    "        optimizer = ch.optim.SGD(model_.parameters(), lr=lr, momentum=0)\n",
    "        optimizer.zero_grad()\n",
    "        loss = criterion(ch.unsqueeze(model_(feature), 0), ch.unsqueeze(label, 0))\n",
    "        loss.backward()\n",
    "        optimizer.step()\n",
    "        # Keep track of gradient norms\n",
    "        gradient_norms = [ch.linalg.norm(x.grad.detach().cpu()).item() for x in model_.parameters()]\n",
    "        # Keep track of updated loss\n",
    "        loss_new = criterion(ch.unsqueeze(model_(feature), 0), ch.unsqueeze(label, 0)).detach().cpu().numpy()\n",
    "        loss_difference = (base_losses[i] - loss_new).item()\n",
    "        gradient_norms += [loss_difference]\n",
    "        features_collected.append(gradient_norms)\n",
    "    features_collected = np.array(features_collected)\n",
    "    features_collected = features_collected.reshape(features_collected.shape[0], -1)\n",
    "    # Do not care about biases or loss diff\n",
    "    features_collected = features_collected[:, [0, 2, 4]]\n",
    "    # features_collected = np.log(features_collected + 1e-10)\n",
    "    return features_collected.reshape(features_collected.shape[0], -1)"
   ]
  },
  {
   "cell_type": "code",
   "execution_count": 13,
   "metadata": {},
   "outputs": [],
   "source": [
    "# Attack based on checking robustness in neighborhood\n",
    "@torch.no_grad()\n",
    "def relative_log_merlin(model, features, labels):\n",
    "    epsilon = 0.2\n",
    "    small_value = 1e-10\n",
    "    n_neighbors = 50\n",
    "    criterion = torch.nn.CrossEntropyLoss(reduction='none')\n",
    "    noise = normal.Normal(0, epsilon)\n",
    "    diffs = []\n",
    "    base_preds = model(features)\n",
    "    base_losses = criterion(base_preds, labels).cpu().numpy()\n",
    "    base_preds = base_preds.cpu().numpy()\n",
    "    for i, feature in enumerate(features):\n",
    "        neighbors = []\n",
    "        distances = []\n",
    "        for _ in range(n_neighbors):\n",
    "            sampled_noise = noise.sample(feature.shape).to(feature.device)\n",
    "            neighbors.append(feature + sampled_noise)\n",
    "            distances.append(sampled_noise.mean().cpu().item())\n",
    "        neighbors = torch.stack(neighbors, 0)\n",
    "        loss_neighbors = criterion(model(neighbors), labels[i].view(1).repeat(n_neighbors))\n",
    "        loss_change = ch.norm((loss_neighbors - base_losses[i])).item()\n",
    "        # Use relative drop instead of absolute\n",
    "        loss_change /= (small_value + base_losses[i].item())\n",
    "        diffs.append(np.log(loss_change + small_value))\n",
    "    diffs = np.array(diffs)\n",
    "    # Clip at zero (lower side)\n",
    "    diffs[diffs < 0] = 0\n",
    "    return diffs"
   ]
  },
  {
   "cell_type": "code",
   "execution_count": 14,
   "metadata": {},
   "outputs": [],
   "source": [
    "def blind_walk(model, features, labels):\n",
    "    # Track the number of steps taken until decision flips \n",
    "    # Walk no more than 100 steps, and try 10 different random directions\n",
    "    num_directions = 10\n",
    "    num_max_steps = 100\n",
    "    point_of_failure = np.ones((num_directions, features.shape[0])) * np.inf\n",
    "    std = 0.01\n",
    "    for j in range(num_directions):\n",
    "        noise = ch.randn_like(features) * std\n",
    "        for i in range(1, num_max_steps + 1):\n",
    "            new_labels = ch.argmax(model(features + noise * i).detach(), 1)\n",
    "            flipped = np.nonzero((new_labels != labels).cpu().numpy())[0]\n",
    "            point_of_failure[j][flipped] = np.minimum(point_of_failure[j][flipped], i)\n",
    "    point_of_failure = np.clip(point_of_failure, 0, num_max_steps)\n",
    "    point_of_failure = np.mean(point_of_failure, 0)\n",
    "    return point_of_failure.reshape(-1, 1)"
   ]
  },
  {
   "cell_type": "code",
   "execution_count": 15,
   "metadata": {},
   "outputs": [],
   "source": [
    "def custom_feature_collection(model, features, labels):\n",
    "    features_collected = []\n",
    "    features_collected.append(ascent_recovery(model, features, labels))\n",
    "    features_collected.append(ascent_recovery(model, features, labels, adv = True))\n",
    "    features_collected.append(extended_epoch(model, features, labels))\n",
    "    features_collected.append(relative_log_merlin(model, features, labels).reshape(-1, 1))\n",
    "    features_collected.append(get_class_scaled_logits(model, features, labels).reshape(-1, 1))\n",
    "    features_collected.append(blind_walk(model, features, labels).reshape(-1, 1))\n",
    "    combined_feratures = np.concatenate(features_collected, 1)\n",
    "    return combined_feratures"
   ]
  },
  {
   "cell_type": "code",
   "execution_count": 18,
   "metadata": {},
   "outputs": [
    {
     "name": "stdout",
     "output_type": "stream",
     "text": [
      "Successfully loaded the Purchase-100 dataset consisting of 197324 records and 600 attributes.\n"
     ]
    },
    {
     "data": {
      "application/vnd.jupyter.widget-view+json": {
       "model_id": "b0fcd421410147628396c990d00dca37",
       "version_major": 2,
       "version_minor": 0
      },
      "text/plain": [
       "scenario:   0%|          | 0/3 [00:00<?, ?it/s]"
      ]
     },
     "metadata": {},
     "output_type": "display_data"
    },
    {
     "data": {
      "application/vnd.jupyter.widget-view+json": {
       "model_id": "445c7daecf3e4ca59e557f7c9dfa6065",
       "version_major": 2,
       "version_minor": 0
      },
      "text/plain": [
       "model:   0%|          | 0/100 [00:00<?, ?it/s]"
      ]
     },
     "metadata": {},
     "output_type": "display_data"
    },
    {
     "data": {
      "application/vnd.jupyter.widget-view+json": {
       "model_id": "40d8e9c5b3dd4a51921038eab057600a",
       "version_major": 2,
       "version_minor": 0
      },
      "text/plain": [
       "model:   0%|          | 0/100 [00:00<?, ?it/s]"
      ]
     },
     "metadata": {},
     "output_type": "display_data"
    },
    {
     "data": {
      "application/vnd.jupyter.widget-view+json": {
       "model_id": "f92dcf8ae83d4c93866b546b764c1db0",
       "version_major": 2,
       "version_minor": 0
      },
      "text/plain": [
       "model:   0%|          | 0/100 [00:00<?, ?it/s]"
      ]
     },
     "metadata": {},
     "output_type": "display_data"
    }
   ],
   "source": [
    "# Train different meta-classifiers per scenario\n",
    "CHALLENGE = \"purchase100\"\n",
    "scenarios = os.listdir(CHALLENGE)\n",
    "phase = \"train\"\n",
    "dataset = load_purchase100(dataset_dir=\"/u/as9rw/work/MICO/data\")\n",
    "LEN_TRAINING = 150000\n",
    "LEN_CHALLENGE = 100\n",
    "num_use_others = 50\n",
    "\n",
    "X_for_meta, Y_for_meta = {}, {}\n",
    "\n",
    "# Check performance of approach on (1, n-1) models from train\n",
    "for scenario in tqdm(scenarios, desc=\"scenario\"):\n",
    "    preds_all = []\n",
    "    scores_all = []\n",
    "    root = os.path.join(CHALLENGE, scenario, phase)\n",
    "    all_except = np.arange(100)\n",
    "\n",
    "    for i, model_folder in tqdm(enumerate(sorted(os.listdir(root), key=lambda d: int(d.split('_')[1]))), desc=\"model\", total=100):\n",
    "        path = os.path.join(root, model_folder)\n",
    "        challenge_dataset = ChallengeDataset.from_path(path, dataset=dataset, len_training=LEN_TRAINING)\n",
    "        challenge_points = challenge_dataset.get_challenges()\n",
    "        \n",
    "        challenge_dataloader = torch.utils.data.DataLoader(challenge_points, batch_size=2*LEN_CHALLENGE)\n",
    "        features, labels = next(iter(challenge_dataloader))\n",
    "        features, labels = features.cuda(), labels.cuda()\n",
    "            \n",
    "        model = load_model('purchase100', path)\n",
    "        model.cuda()\n",
    "        features, labels = features.cuda(), labels.cuda()\n",
    "        # Look at all models except this one\n",
    "        other_models = train_models[scenario][np.delete(all_except, i)]\n",
    "        other_models = np.random.choice(other_models, num_use_others, replace=False)\n",
    "        features_collected = np.array([matt_modified_scores(model, features, labels, other_model.cuda()) for other_model in other_models])\n",
    "        scores = np.stack((\n",
    "            np.max(features_collected[:, :, 0], 0) - np.min(features_collected[:, :,  0], 0),\n",
    "            np.max(features_collected[:, :,  1], 0) - np.min(features_collected[:, :,  1], 0),\n",
    "            np.sum(np.abs(features_collected[:, :,  0]), 0),\n",
    "            np.sum(np.abs(features_collected[:, :,  1]), 0),\n",
    "            np.min(features_collected[:, :,  0], 0),\n",
    "            np.min(features_collected[:, :,  1], 0),\n",
    "            np.max(features_collected[:, :,  0], 0),\n",
    "            np.max(features_collected[:, :,  1], 0),\n",
    "        ), 1)\n",
    "        mem_labels = challenge_dataset.get_solutions()\n",
    "        \n",
    "        # Also get scaled logit scores while at it\n",
    "        other_features = custom_feature_collection(model, features, labels)\n",
    "        scores = np.concatenate((scores, other_features), 1)\n",
    "\n",
    "        # Store\n",
    "        preds_all.append(mem_labels)\n",
    "        scores_all.append(scores)\n",
    "    \n",
    "    preds_all = np.concatenate(preds_all)\n",
    "    scores_all = np.concatenate(scores_all)\n",
    "    \n",
    "    X_for_meta[scenario] = scores_all\n",
    "    Y_for_meta[scenario] = preds_all"
   ]
  },
  {
   "cell_type": "code",
   "execution_count": null,
   "metadata": {},
   "outputs": [],
   "source": [
    "CHALLENGE = \"purchase100\"\n",
    "scenarios = os.listdir(CHALLENGE)\n",
    "\n",
    "bins = 50\n",
    "for sc in scenarios:\n",
    "    index = 8\n",
    "    use = np.copy(X_for_meta[sc][:, index])\n",
    "    eps = 1e-10\n",
    "    model_to_look = 1\n",
    "    membership_info = Y_for_meta[sc][200 * model_to_look:200 * (model_to_look + 1)]\n",
    "    #plt.hist(use[membership_info == 0], bins, alpha=0.3, label='non-members')\n",
    "    #plt.hist(use[membership_info == 1], bins, alpha=0.3, label='members')\n",
    "    plt.hist(use[Y_for_meta[sc] == 0], bins, alpha=0.3, label='non-members')\n",
    "    plt.hist(use[Y_for_meta[sc] == 1], bins, alpha=0.3, label='members')\n",
    "    plt.legend(loc='upper right')\n",
    "    plt.rcParams['figure.dpi'] = 100\n",
    "    plt.show()\n",
    "    break"
   ]
  },
  {
   "cell_type": "code",
   "execution_count": null,
   "metadata": {},
   "outputs": [],
   "source": [
    "# Visualize scores to identify scope for improvement via combination\n",
    "CHALLENGE = \"purchase100\"\n",
    "scenarios = os.listdir(CHALLENGE)\n",
    "\n",
    "for sc in scenarios:\n",
    "    wanted_zero, wanted_one = X_for_meta[sc][Y_for_meta[sc] == 0], X_for_meta[sc][Y_for_meta[sc] == 1]\n",
    "    index = 4\n",
    "    other = 5\n",
    "    plt.scatter(wanted_zero[:, index], wanted_zero[:, other], label='non-members', s=2, alpha=0.5)\n",
    "    plt.scatter(wanted_one[:, index], wanted_one[:, other], label='members', s=2, alpha=0.5)\n",
    "    plt.legend(loc='upper right')\n",
    "    plt.show()\n",
    "    break"
   ]
  },
  {
   "cell_type": "code",
   "execution_count": null,
   "metadata": {},
   "outputs": [],
   "source": [
    "# Train different meta-classifiers per scenario\n",
    "CHALLENGE = \"purchase100\"\n",
    "scenarios = os.listdir(CHALLENGE)\n",
    "\n",
    "# depths = [4, 5, 6, 7, 8]\n",
    "# depths = [5, 10, 25, 50, 100]\n",
    "depths = [50, 100, 150, 200]\n",
    "seeds = [18, 28, 38, 48, 58, 68, 78, 88, 98]\n",
    "\n",
    "for depth in depths:\n",
    "    inner_scores = [0, 0, 0]\n",
    "    for seed in seeds:\n",
    "        # meta_clf = RandomForestClassifier(max_depth=depth, n_estimators=200, max_samples=0.8)\n",
    "        meta_clf = MLPClassifier(hidden_layer_sizes=(16, 8, 4), max_iter=depth)\n",
    "        #meta_clf = CatBoostClassifier(iterations=depth, verbose=0)\n",
    "        X_tr, X_te, Y_tr, Y_te = [], [], [], []\n",
    "        for i, sc in enumerate(scenarios):\n",
    "            # Split at data level\n",
    "            # X_train, X_test, y_train, y_test = train_test_split(X_for_meta[sc], Y_for_meta[sc], test_size=0.1, random_state=seed)\n",
    "            # Split at model level\n",
    "            train_split_og, test_split_og = train_test_split(np.arange(100), test_size=10, random_state=seed)\n",
    "            train_split = np.concatenate([np.arange(200) + 200 * i for i in train_split_og])\n",
    "            test_split = np.concatenate([np.arange(200) + 200 * i for i in test_split_og])\n",
    "            X_train = X_for_meta[sc][train_split]\n",
    "            X_test = X_for_meta[sc][test_split]\n",
    "            y_train = Y_for_meta[sc][train_split]\n",
    "            y_test = Y_for_meta[sc][test_split]\n",
    "            \n",
    "            extra_features = np.array(other_other_features[sc][\"train\"])\n",
    "            extra_train = extra_features[train_split_og]\n",
    "            extra_test = extra_features[test_split_og]\n",
    "            extra_train = extra_train.reshape(len(X_train), -1)\n",
    "            extra_test  = extra_test.reshape(len(X_test), -1)\n",
    "            X_train = np.concatenate((X_train, extra_train), 1)\n",
    "            X_test = np.concatenate((X_test, extra_test), 1)\n",
    "\n",
    "            # Train common model only for low and high DP\n",
    "            if i != 0:\n",
    "                X_tr.append(np.concatenate((np.ones((len(X_train), 1)) * i, X_train), axis=1))\n",
    "                Y_tr.append(y_train)\n",
    "            X_te.append(np.concatenate((np.ones((len(X_test), 1)) * i, X_test), axis=1))\n",
    "            Y_te.append(y_test)\n",
    "    \n",
    "        X_tr = np.concatenate(X_tr, 0)\n",
    "        Y_tr = np.concatenate(Y_tr, 0)\n",
    "\n",
    "        meta_clf.fit(X_tr, Y_tr)\n",
    "        preds_inf = meta_clf.predict_proba(X_te[0])[:, 1]\n",
    "        preds_hi = meta_clf.predict_proba(X_te[1])[:, 1]\n",
    "        preds_lo = meta_clf.predict_proba(X_te[2])[:, 1]\n",
    "        scores_inf = score(Y_te[0], preds_inf)\n",
    "        scores_hi = score(Y_te[1], preds_hi)\n",
    "        scores_lo = score(Y_te[2], preds_lo)\n",
    "        scores_inf.pop('fpr', None)\n",
    "        scores_inf.pop('tpr', None)\n",
    "        scores_hi.pop('fpr', None)\n",
    "        scores_hi.pop('tpr', None)\n",
    "        scores_lo.pop('fpr', None)\n",
    "        scores_lo.pop('tpr', None)\n",
    "        #display(pd.DataFrame([scores]))\n",
    "        inner_scores[0] += scores_inf['TPR_FPR_1000']\n",
    "        inner_scores[1] += scores_hi['TPR_FPR_1000']\n",
    "        inner_scores[2] += scores_lo['TPR_FPR_1000']\n",
    "    combined = sum(inner_scores) / (3 * len(seeds))\n",
    "    print(\"Depth: %d | Scores: combined:%.4f | inf:%.4f, hi:%.4f, lo:%.4f\" % (depth, combined, inner_scores[0] / len(seeds), inner_scores[1] / len(seeds), inner_scores[2] / len(seeds)))"
   ]
  },
  {
   "cell_type": "code",
   "execution_count": 19,
   "metadata": {},
   "outputs": [],
   "source": [
    "import autosklearn.metrics"
   ]
  },
  {
   "cell_type": "code",
   "execution_count": null,
   "metadata": {},
   "outputs": [],
   "source": [
    "from tpot.config.classifier import classifier_config_dict\n",
    "\n",
    "new_config = classifier_config_dict.copy()\n",
    "del new_config['sklearn.svm.LinearSVC']"
   ]
  },
  {
   "cell_type": "code",
   "execution_count": 69,
   "metadata": {},
   "outputs": [
    {
     "name": "stdout",
     "output_type": "stream",
     "text": [
      "[WARNING] [2023-01-24 08:58:43,201:Client-EnsembleBuilder] No runs were available to build an ensemble from\n",
      "[WARNING] [2023-01-24 08:59:14,635:Client-EnsembleBuilder] No runs were available to build an ensemble from\n",
      "[WARNING] [2023-01-24 08:59:46,061:Client-EnsembleBuilder] No runs were available to build an ensemble from\n"
     ]
    },
    {
     "data": {
      "text/html": [
       "<div>\n",
       "<style scoped>\n",
       "    .dataframe tbody tr th:only-of-type {\n",
       "        vertical-align: middle;\n",
       "    }\n",
       "\n",
       "    .dataframe tbody tr th {\n",
       "        vertical-align: top;\n",
       "    }\n",
       "\n",
       "    .dataframe thead th {\n",
       "        text-align: right;\n",
       "    }\n",
       "</style>\n",
       "<table border=\"1\" class=\"dataframe\">\n",
       "  <thead>\n",
       "    <tr style=\"text-align: right;\">\n",
       "      <th></th>\n",
       "      <th>TPR_FPR_10</th>\n",
       "      <th>TPR_FPR_100</th>\n",
       "      <th>TPR_FPR_500</th>\n",
       "      <th>TPR_FPR_1000</th>\n",
       "      <th>TPR_FPR_1500</th>\n",
       "      <th>TPR_FPR_2000</th>\n",
       "      <th>AUC</th>\n",
       "      <th>MIA</th>\n",
       "      <th>accuracy</th>\n",
       "    </tr>\n",
       "  </thead>\n",
       "  <tbody>\n",
       "    <tr>\n",
       "      <th>0</th>\n",
       "      <td>0.0224</td>\n",
       "      <td>0.1176</td>\n",
       "      <td>0.2735</td>\n",
       "      <td>0.3888</td>\n",
       "      <td>0.4967</td>\n",
       "      <td>0.5862</td>\n",
       "      <td>0.779851</td>\n",
       "      <td>0.4183</td>\n",
       "      <td>0.70915</td>\n",
       "    </tr>\n",
       "  </tbody>\n",
       "</table>\n",
       "</div>"
      ],
      "text/plain": [
       "   TPR_FPR_10  TPR_FPR_100  TPR_FPR_500  TPR_FPR_1000  TPR_FPR_1500  \\\n",
       "0      0.0224       0.1176       0.2735        0.3888        0.4967   \n",
       "\n",
       "   TPR_FPR_2000       AUC     MIA  accuracy  \n",
       "0        0.5862  0.779851  0.4183   0.70915  "
      ]
     },
     "metadata": {},
     "output_type": "display_data"
    },
    {
     "data": {
      "text/html": [
       "<div>\n",
       "<style scoped>\n",
       "    .dataframe tbody tr th:only-of-type {\n",
       "        vertical-align: middle;\n",
       "    }\n",
       "\n",
       "    .dataframe tbody tr th {\n",
       "        vertical-align: top;\n",
       "    }\n",
       "\n",
       "    .dataframe thead th {\n",
       "        text-align: right;\n",
       "    }\n",
       "</style>\n",
       "<table border=\"1\" class=\"dataframe\">\n",
       "  <thead>\n",
       "    <tr style=\"text-align: right;\">\n",
       "      <th></th>\n",
       "      <th>TPR_FPR_10</th>\n",
       "      <th>TPR_FPR_100</th>\n",
       "      <th>TPR_FPR_500</th>\n",
       "      <th>TPR_FPR_1000</th>\n",
       "      <th>TPR_FPR_1500</th>\n",
       "      <th>TPR_FPR_2000</th>\n",
       "      <th>AUC</th>\n",
       "      <th>MIA</th>\n",
       "      <th>accuracy</th>\n",
       "    </tr>\n",
       "  </thead>\n",
       "  <tbody>\n",
       "    <tr>\n",
       "      <th>0</th>\n",
       "      <td>0.0075</td>\n",
       "      <td>0.0551</td>\n",
       "      <td>0.171</td>\n",
       "      <td>0.2499</td>\n",
       "      <td>0.3286</td>\n",
       "      <td>0.4057</td>\n",
       "      <td>0.664258</td>\n",
       "      <td>0.2385</td>\n",
       "      <td>0.61925</td>\n",
       "    </tr>\n",
       "  </tbody>\n",
       "</table>\n",
       "</div>"
      ],
      "text/plain": [
       "   TPR_FPR_10  TPR_FPR_100  TPR_FPR_500  TPR_FPR_1000  TPR_FPR_1500  \\\n",
       "0      0.0075       0.0551        0.171        0.2499        0.3286   \n",
       "\n",
       "   TPR_FPR_2000       AUC     MIA  accuracy  \n",
       "0        0.4057  0.664258  0.2385   0.61925  "
      ]
     },
     "metadata": {},
     "output_type": "display_data"
    },
    {
     "data": {
      "text/html": [
       "<div>\n",
       "<style scoped>\n",
       "    .dataframe tbody tr th:only-of-type {\n",
       "        vertical-align: middle;\n",
       "    }\n",
       "\n",
       "    .dataframe tbody tr th {\n",
       "        vertical-align: top;\n",
       "    }\n",
       "\n",
       "    .dataframe thead th {\n",
       "        text-align: right;\n",
       "    }\n",
       "</style>\n",
       "<table border=\"1\" class=\"dataframe\">\n",
       "  <thead>\n",
       "    <tr style=\"text-align: right;\">\n",
       "      <th></th>\n",
       "      <th>TPR_FPR_10</th>\n",
       "      <th>TPR_FPR_100</th>\n",
       "      <th>TPR_FPR_500</th>\n",
       "      <th>TPR_FPR_1000</th>\n",
       "      <th>TPR_FPR_1500</th>\n",
       "      <th>TPR_FPR_2000</th>\n",
       "      <th>AUC</th>\n",
       "      <th>MIA</th>\n",
       "      <th>accuracy</th>\n",
       "    </tr>\n",
       "  </thead>\n",
       "  <tbody>\n",
       "    <tr>\n",
       "      <th>0</th>\n",
       "      <td>0.0111</td>\n",
       "      <td>0.0606</td>\n",
       "      <td>0.1683</td>\n",
       "      <td>0.2503</td>\n",
       "      <td>0.3341</td>\n",
       "      <td>0.4011</td>\n",
       "      <td>0.655679</td>\n",
       "      <td>0.2269</td>\n",
       "      <td>0.61345</td>\n",
       "    </tr>\n",
       "  </tbody>\n",
       "</table>\n",
       "</div>"
      ],
      "text/plain": [
       "   TPR_FPR_10  TPR_FPR_100  TPR_FPR_500  TPR_FPR_1000  TPR_FPR_1500  \\\n",
       "0      0.0111       0.0606       0.1683        0.2503        0.3341   \n",
       "\n",
       "   TPR_FPR_2000       AUC     MIA  accuracy  \n",
       "0        0.4011  0.655679  0.2269   0.61345  "
      ]
     },
     "metadata": {},
     "output_type": "display_data"
    }
   ],
   "source": [
    "# Train one meta-classifier overall\n",
    "CHALLENGE = \"purchase100\"\n",
    "# meta_clf = RandomForestClassifier(max_depth=7, n_estimators=200, max_samples=0.8)\n",
    "# meta_clf = CatBoostClassifier()\n",
    "# meta_clf = MLPClassifier(hidden_layer_sizes=(16, 8, 4), max_iter=100, verbose=True)\n",
    "meta_clf = autosklearn.classification.AutoSklearnClassifier(\n",
    "    time_left_for_this_task=300,\n",
    "    metric=autosklearn.metrics.roc_auc)\n",
    "# meta_clf = TPOTClassifier(config_dict=new_config,\n",
    "#                           scoring='roc_auc', verbosity=3,\n",
    "#                           n_jobs=18,\n",
    "#                           generations=5,\n",
    "#                           population_size=20,\n",
    "#                           max_time_mins=5)\n",
    "\n",
    "X_tr, X_te, Y_tr, Y_te = [], [], [], []\n",
    "use_all = True\n",
    "for i, sc in enumerate(scenarios):\n",
    "    # Split at model level\n",
    "    train_split_og, test_split_og = train_test_split(np.arange(100), test_size=20)\n",
    "    train_split = np.concatenate([np.arange(200) + 200 * i for i in train_split_og])\n",
    "    test_split = np.concatenate([np.arange(200) + 200 * i for i in test_split_og])\n",
    "    if use_all:\n",
    "        X_train = X_for_meta[sc]\n",
    "        X_test  = X_for_meta[sc]\n",
    "        y_train = Y_for_meta[sc]\n",
    "        y_test  = Y_for_meta[sc]\n",
    "    else:\n",
    "        X_train = X_for_meta[sc][train_split]\n",
    "        X_test = X_for_meta[sc][test_split]\n",
    "        y_train = Y_for_meta[sc][train_split]\n",
    "        y_test = Y_for_meta[sc][test_split]\n",
    "\n",
    "    # Skip non-DP\n",
    "    X_tr.append(np.concatenate((np.ones((len(X_train), 1)) * i, X_train), axis=1))\n",
    "    Y_tr.append(y_train)\n",
    "\n",
    "    X_te.append(np.concatenate((np.ones((len(X_test), 1)) * i, X_test), axis=1))    \n",
    "    Y_te.append(y_test)\n",
    "    \n",
    "X_tr = np.concatenate(X_tr, 0)\n",
    "Y_tr = np.concatenate(Y_tr, 0)\n",
    "meta_clf.fit(X_tr, Y_tr)\n",
    "\n",
    "for i, sc in enumerate(scenarios):\n",
    "    preds = meta_clf.predict_proba(X_te[i])[:, 1]\n",
    "    scores = score(Y_te[i], preds)\n",
    "    scores.pop('fpr', None)\n",
    "    scores.pop('tpr', None)\n",
    "    display(pd.DataFrame([scores]))"
   ]
  },
  {
   "cell_type": "code",
   "execution_count": null,
   "metadata": {},
   "outputs": [],
   "source": [
    "# Train one meta-classifier overall\n",
    "CHALLENGE = \"purchase100\"\n",
    "meta_clf = CatBoostClassifier(iterations=1000, learning_rate=0.02, verbose=0)\n",
    "\n",
    "X_tr, X_te, Y_tr, Y_te = [], [], [], []\n",
    "use_all = True\n",
    "for i, sc in enumerate(scenarios):\n",
    "    # Split at model level\n",
    "    train_split_og, test_split_og = train_test_split(np.arange(100), test_size=25)\n",
    "    train_split = np.concatenate([np.arange(200) + 200 * i for i in train_split_og])\n",
    "    test_split = np.concatenate([np.arange(200) + 200 * i for i in test_split_og])\n",
    "    extra_features = np.array(other_other_features[sc][\"train\"])\n",
    "    if use_all:\n",
    "        X_train = X_for_meta[sc]\n",
    "        X_test  = X_for_meta[sc]\n",
    "        y_train = Y_for_meta[sc]\n",
    "        y_test  = Y_for_meta[sc]\n",
    "        extra_train = extra_features\n",
    "        extra_test = extra_features\n",
    "    else:\n",
    "        X_train = X_for_meta[sc][train_split]\n",
    "        X_test = X_for_meta[sc][test_split]\n",
    "        y_train = Y_for_meta[sc][train_split]\n",
    "        y_test = Y_for_meta[sc][test_split]\n",
    "        extra_train = extra_features[train_split_og]\n",
    "        extra_test = extra_features[test_split_og]\n",
    "    \n",
    "    extra_train = extra_train.reshape(len(X_train), -1)\n",
    "    extra_test  = extra_test.reshape(len(X_test), -1)\n",
    "    \n",
    "    X_train = np.concatenate((X_train, extra_train), 1)\n",
    "    X_test = np.concatenate((X_test, extra_test), 1)\n",
    "\n",
    "    # Skip non-DP\n",
    "    X_tr.append(np.concatenate((np.ones((len(X_train), 1)) * i, X_train), axis=1))\n",
    "    Y_tr.append(y_train)\n",
    "\n",
    "    X_te.append(np.concatenate((np.ones((len(X_test), 1)) * i, X_test), axis=1))    \n",
    "    Y_te.append(y_test)\n",
    "    \n",
    "X_tr = np.concatenate(X_tr, 0)\n",
    "Y_tr = np.concatenate(Y_tr, 0)\n",
    "\n",
    "X_te_all = np.concatenate(X_te, 0)\n",
    "Y_te_all = np.concatenate(Y_te, 0)\n",
    "\n",
    "if use_all:\n",
    "    meta_clf.fit(X_tr, Y_tr)\n",
    "else:\n",
    "    meta_clf.fit(X_tr, Y_tr, eval_set=(X_te_all, Y_te_all))\n",
    "\n",
    "for i, sc in enumerate(scenarios):\n",
    "    preds = meta_clf.predict_proba(X_te[i])[:, 1]\n",
    "    scores = score(Y_te[i], preds)\n",
    "    scores.pop('fpr', None)\n",
    "    scores.pop('tpr', None)\n",
    "    display(pd.DataFrame([scores]))"
   ]
  },
  {
   "cell_type": "code",
   "execution_count": null,
   "metadata": {},
   "outputs": [],
   "source": []
  },
  {
   "cell_type": "code",
   "execution_count": null,
   "metadata": {},
   "outputs": [],
   "source": []
  },
  {
   "cell_type": "code",
   "execution_count": null,
   "metadata": {
    "scrolled": true
   },
   "outputs": [],
   "source": [
    "# Train different meta-classifiers per scenario\n",
    "CHALLENGE = \"purchase100\"\n",
    "scenarios = os.listdir(CHALLENGE)\n",
    "\n",
    "depths = [2, 3, 4]\n",
    "# depths = [5, 10, 25, 50, 100]\n",
    "seeds = [8, 18, 28, 38, 48, 58, 68, 78, 88, 98] #, 108, 118, 128]\n",
    "\n",
    "for depth in depths:\n",
    "    inner_scores = [0, 0, 0]\n",
    "    for seed in seeds:\n",
    "        meta_clfs = {x: CatBoostClassifier(max_depth=depth, iterations=1000, verbose=0) for x in X_for_meta.keys()}\n",
    "        # meta_clfs = {x: RandomForestClassifier(max_depth=depth, n_estimators=200, max_samples=0.8) for x in X_for_meta.keys()}\n",
    "        X_tr, X_te, Y_tr, Y_te = [], [], [], []\n",
    "        preds_sc, yte_sc = [], []\n",
    "        for i, sc in enumerate(scenarios):\n",
    "            # Split at model level\n",
    "            train_split_og, test_split_og = train_test_split(np.arange(100), test_size=20, random_state=seed)\n",
    "            train_split = np.concatenate([np.arange(200) + 200 * i for i in train_split_og])\n",
    "            test_split = np.concatenate([np.arange(200) + 200 * i for i in test_split_og])\n",
    "            X_train = X_for_meta[sc][train_split]\n",
    "            X_test = X_for_meta[sc][test_split]\n",
    "            y_train = Y_for_meta[sc][train_split]\n",
    "            y_test = Y_for_meta[sc][test_split]\n",
    "            \n",
    "            extra_features = np.array(other_other_features[sc][\"train\"])\n",
    "            extra_train = extra_features[train_split_og]\n",
    "            extra_test = extra_features[test_split_og]\n",
    "            extra_train = extra_train.reshape(len(X_train), -1)\n",
    "            extra_test  = extra_test.reshape(len(X_test), -1)\n",
    "            X_train = np.concatenate((X_train, extra_train), 1)\n",
    "            X_test = np.concatenate((X_test, extra_test), 1)\n",
    "            \n",
    "            meta_clfs[sc].fit(X_train, y_train)\n",
    "            preds = meta_clfs[sc].predict_proba(X_test)[:, 1]\n",
    "            preds_sc.append(preds)\n",
    "            yte_sc.append(y_test)\n",
    "\n",
    "        scores_hi = score(yte_sc[0], preds_sc[0])\n",
    "        scores_inf = score(yte_sc[0], preds_sc[0])\n",
    "        scores_hi = score(yte_sc[1], preds_sc[1])\n",
    "        scores_lo = score(yte_sc[2], preds_sc[2])\n",
    "        scores_inf.pop('fpr', None)\n",
    "        scores_inf.pop('tpr', None)\n",
    "        scores_hi.pop('fpr', None)\n",
    "        scores_hi.pop('tpr', None)\n",
    "        scores_lo.pop('fpr', None)\n",
    "        scores_lo.pop('tpr', None)\n",
    "#         display(pd.DataFrame([scores]))\n",
    "        inner_scores[0] += scores_inf['TPR_FPR_1000']\n",
    "        inner_scores[1] += scores_hi['TPR_FPR_1000']\n",
    "        inner_scores[2] += scores_lo['TPR_FPR_1000']\n",
    "    print(\"Depth: %d | Scores: inf:%.4f, hi:%.4f, lo:%.4f\" % (depth, inner_scores[0] / len(seeds), inner_scores[1] / len(seeds), inner_scores[2] / len(seeds)))"
   ]
  },
  {
   "cell_type": "code",
   "execution_count": 101,
   "metadata": {},
   "outputs": [
    {
     "name": "stdout",
     "output_type": "stream",
     "text": [
      "[WARNING] [2023-01-26 10:00:29,958:Client-EnsembleBuilder] No runs were available to build an ensemble from\n",
      "[WARNING] [2023-01-26 10:02:01,422:Client-EnsembleBuilder] No runs were available to build an ensemble from\n",
      "[WARNING] [2023-01-26 10:03:32,842:Client-EnsembleBuilder] No runs were available to build an ensemble from\n",
      "[WARNING] [2023-01-26 10:03:35,307:Client-EnsembleBuilder] No runs were available to build an ensemble from\n",
      "purchase100_inf AUC (train): 0.67121382\n"
     ]
    },
    {
     "data": {
      "text/html": [
       "<div>\n",
       "<style scoped>\n",
       "    .dataframe tbody tr th:only-of-type {\n",
       "        vertical-align: middle;\n",
       "    }\n",
       "\n",
       "    .dataframe tbody tr th {\n",
       "        vertical-align: top;\n",
       "    }\n",
       "\n",
       "    .dataframe thead th {\n",
       "        text-align: right;\n",
       "    }\n",
       "</style>\n",
       "<table border=\"1\" class=\"dataframe\">\n",
       "  <thead>\n",
       "    <tr style=\"text-align: right;\">\n",
       "      <th></th>\n",
       "      <th>TPR_FPR_10</th>\n",
       "      <th>TPR_FPR_100</th>\n",
       "      <th>TPR_FPR_500</th>\n",
       "      <th>TPR_FPR_1000</th>\n",
       "      <th>TPR_FPR_1500</th>\n",
       "      <th>TPR_FPR_2000</th>\n",
       "      <th>AUC</th>\n",
       "      <th>MIA</th>\n",
       "      <th>accuracy</th>\n",
       "    </tr>\n",
       "  </thead>\n",
       "  <tbody>\n",
       "    <tr>\n",
       "      <th>0</th>\n",
       "      <td>0.015</td>\n",
       "      <td>0.059</td>\n",
       "      <td>0.1552</td>\n",
       "      <td>0.2454</td>\n",
       "      <td>0.3146</td>\n",
       "      <td>0.381</td>\n",
       "      <td>0.671214</td>\n",
       "      <td>0.2189</td>\n",
       "      <td>0.60945</td>\n",
       "    </tr>\n",
       "  </tbody>\n",
       "</table>\n",
       "</div>"
      ],
      "text/plain": [
       "   TPR_FPR_10  TPR_FPR_100  TPR_FPR_500  TPR_FPR_1000  TPR_FPR_1500  \\\n",
       "0       0.015        0.059       0.1552        0.2454        0.3146   \n",
       "\n",
       "   TPR_FPR_2000       AUC     MIA  accuracy  \n",
       "0         0.381  0.671214  0.2189   0.60945  "
      ]
     },
     "metadata": {},
     "output_type": "display_data"
    },
    {
     "name": "stdout",
     "output_type": "stream",
     "text": [
      "[WARNING] [2023-01-26 10:15:30,887:Client-EnsembleBuilder] No runs were available to build an ensemble from\n",
      "purchase100_hi AUC (train): 0.55645119\n"
     ]
    },
    {
     "data": {
      "text/html": [
       "<div>\n",
       "<style scoped>\n",
       "    .dataframe tbody tr th:only-of-type {\n",
       "        vertical-align: middle;\n",
       "    }\n",
       "\n",
       "    .dataframe tbody tr th {\n",
       "        vertical-align: top;\n",
       "    }\n",
       "\n",
       "    .dataframe thead th {\n",
       "        text-align: right;\n",
       "    }\n",
       "</style>\n",
       "<table border=\"1\" class=\"dataframe\">\n",
       "  <thead>\n",
       "    <tr style=\"text-align: right;\">\n",
       "      <th></th>\n",
       "      <th>TPR_FPR_10</th>\n",
       "      <th>TPR_FPR_100</th>\n",
       "      <th>TPR_FPR_500</th>\n",
       "      <th>TPR_FPR_1000</th>\n",
       "      <th>TPR_FPR_1500</th>\n",
       "      <th>TPR_FPR_2000</th>\n",
       "      <th>AUC</th>\n",
       "      <th>MIA</th>\n",
       "      <th>accuracy</th>\n",
       "    </tr>\n",
       "  </thead>\n",
       "  <tbody>\n",
       "    <tr>\n",
       "      <th>0</th>\n",
       "      <td>0.0023</td>\n",
       "      <td>0.0181</td>\n",
       "      <td>0.0702</td>\n",
       "      <td>0.1362</td>\n",
       "      <td>0.1976</td>\n",
       "      <td>0.2563</td>\n",
       "      <td>0.556451</td>\n",
       "      <td>0.0829</td>\n",
       "      <td>0.54145</td>\n",
       "    </tr>\n",
       "  </tbody>\n",
       "</table>\n",
       "</div>"
      ],
      "text/plain": [
       "   TPR_FPR_10  TPR_FPR_100  TPR_FPR_500  TPR_FPR_1000  TPR_FPR_1500  \\\n",
       "0      0.0023       0.0181       0.0702        0.1362        0.1976   \n",
       "\n",
       "   TPR_FPR_2000       AUC     MIA  accuracy  \n",
       "0        0.2563  0.556451  0.0829   0.54145  "
      ]
     },
     "metadata": {},
     "output_type": "display_data"
    },
    {
     "name": "stdout",
     "output_type": "stream",
     "text": [
      "[WARNING] [2023-01-26 10:30:26,560:Client-EnsembleBuilder] No runs were available to build an ensemble from\n",
      "purchase100_lo AUC (train): 0.55531862\n"
     ]
    },
    {
     "data": {
      "text/html": [
       "<div>\n",
       "<style scoped>\n",
       "    .dataframe tbody tr th:only-of-type {\n",
       "        vertical-align: middle;\n",
       "    }\n",
       "\n",
       "    .dataframe tbody tr th {\n",
       "        vertical-align: top;\n",
       "    }\n",
       "\n",
       "    .dataframe thead th {\n",
       "        text-align: right;\n",
       "    }\n",
       "</style>\n",
       "<table border=\"1\" class=\"dataframe\">\n",
       "  <thead>\n",
       "    <tr style=\"text-align: right;\">\n",
       "      <th></th>\n",
       "      <th>TPR_FPR_10</th>\n",
       "      <th>TPR_FPR_100</th>\n",
       "      <th>TPR_FPR_500</th>\n",
       "      <th>TPR_FPR_1000</th>\n",
       "      <th>TPR_FPR_1500</th>\n",
       "      <th>TPR_FPR_2000</th>\n",
       "      <th>AUC</th>\n",
       "      <th>MIA</th>\n",
       "      <th>accuracy</th>\n",
       "    </tr>\n",
       "  </thead>\n",
       "  <tbody>\n",
       "    <tr>\n",
       "      <th>0</th>\n",
       "      <td>0.0022</td>\n",
       "      <td>0.0204</td>\n",
       "      <td>0.0757</td>\n",
       "      <td>0.1428</td>\n",
       "      <td>0.1992</td>\n",
       "      <td>0.2591</td>\n",
       "      <td>0.555319</td>\n",
       "      <td>0.0799</td>\n",
       "      <td>0.53995</td>\n",
       "    </tr>\n",
       "  </tbody>\n",
       "</table>\n",
       "</div>"
      ],
      "text/plain": [
       "   TPR_FPR_10  TPR_FPR_100  TPR_FPR_500  TPR_FPR_1000  TPR_FPR_1500  \\\n",
       "0      0.0022       0.0204       0.0757        0.1428        0.1992   \n",
       "\n",
       "   TPR_FPR_2000       AUC     MIA  accuracy  \n",
       "0        0.2591  0.555319  0.0799   0.53995  "
      ]
     },
     "metadata": {},
     "output_type": "display_data"
    },
    {
     "name": "stdout",
     "output_type": "stream",
     "text": [
      "Average score 0.17479999999999998\n"
     ]
    }
   ],
   "source": [
    "# Train different meta-classifiers per scenario\n",
    "CHALLENGE = \"purchase100\"\n",
    "scenarios = os.listdir(CHALLENGE)\n",
    "# depths_ = [8, 8, 8]\n",
    "# depths_ = [8, 8, 5] # Works best so far\n",
    "# meta_clfs = {x: RandomForestClassifier(max_depth=depths_[ii], n_estimators=200, max_samples=0.8) for ii, x in enumerate(X_for_meta.keys())}\n",
    "# meta_clfs = {x: TPOTClassifier(config_dict=new_config, scoring='roc_auc', verbosity=3, n_jobs=18, generations=5, population_size=20, max_time_mins=10) for ii, x in enumerate(X_for_meta.keys())}\n",
    "# meta_clfs = {x: TPOTClassifier(config_dict=new_config, scoring='roc_auc', verbosity=2, n_jobs=16, generations=8, population_size=30) for ii, x in enumerate(X_for_meta.keys())}\n",
    "# max_time_mins=1, max_eval_time_mins=1, generations=5, population_size=5\n",
    "\n",
    "# Best so far:\n",
    "# meta_clfs = {x: autosklearn.classification.AutoSklearnClassifier(time_left_for_this_task=180, metric=autosklearn.metrics.roc_auc) for ii, x in enumerate(X_for_meta.keys())}\n",
    "meta_clfs = {x: autosklearn.classification.AutoSklearnClassifier(time_left_for_this_task=900, resampling_strategy='cv', metric=autosklearn.metrics.roc_auc) for ii, x in enumerate(X_for_meta.keys())}\n",
    "\n",
    "avg = 0\n",
    "use_all = True\n",
    "for sc in scenarios:\n",
    "    train_split_og, test_split_og = train_test_split(np.arange(100), test_size=20)\n",
    "    train_split = np.concatenate([np.arange(200) + 200 * i for i in train_split_og])\n",
    "    test_split = np.concatenate([np.arange(200) + 200 * i for i in test_split_og])\n",
    "    if use_all:\n",
    "        X_train = X_for_meta[sc]\n",
    "        X_test  = X_for_meta[sc]\n",
    "        y_train = Y_for_meta[sc]\n",
    "        y_test  = Y_for_meta[sc]\n",
    "    else:\n",
    "        \n",
    "        X_train = X_for_meta[sc][train_split]\n",
    "        X_test  = X_for_meta[sc][test_split]\n",
    "        y_train = Y_for_meta[sc][train_split]\n",
    "        y_test  = Y_for_meta[sc][test_split]\n",
    "\n",
    "    meta_clfs[sc].fit(X_train, y_train)\n",
    "    preds = meta_clfs[sc].predict_proba(X_test)[:, 1]\n",
    "    preds_train = meta_clfs[sc].predict_proba(X_train)[:, 1]\n",
    "    \n",
    "    print(f\"{sc} AUC (train): {roc_auc_score(y_train, preds_train)}\")\n",
    "    scores = score(y_test, preds)\n",
    "    scores.pop('fpr', None)\n",
    "    scores.pop('tpr', None)\n",
    "    display(pd.DataFrame([scores]))\n",
    "    avg += scores['TPR_FPR_1000']\n",
    "\n",
    "print(\"Average score\", avg / 3)"
   ]
  },
  {
   "cell_type": "code",
   "execution_count": null,
   "metadata": {},
   "outputs": [],
   "source": [
    "# Train different meta-classifiers per scenario\n",
    "CHALLENGE = \"purchase100\"\n",
    "scenarios = os.listdir(CHALLENGE)\n",
    "# meta_clfs = {x: CatBoostClassifier(iterations=1000, learning_rate=0.01) for ii, x in enumerate(X_for_meta.keys())}\n",
    "meta_clfs = {x: CatBoostClassifier(verbose=0) for ii, x in enumerate(X_for_meta.keys())}\n",
    "\n",
    "avg = 0\n",
    "for sc in scenarios:\n",
    "    train_split_og, test_split_og = train_test_split(np.arange(100), test_size=30)\n",
    "    train_split = np.concatenate([np.arange(200) + 200 * i for i in train_split_og])\n",
    "    test_split = np.concatenate([np.arange(200) + 200 * i for i in test_split_og])\n",
    "    extra_features = np.array(other_other_features[sc][\"train\"])\n",
    "        \n",
    "    X_train = X_for_meta[sc][train_split]\n",
    "    X_test  = X_for_meta[sc][test_split]\n",
    "    y_train = Y_for_meta[sc][train_split]\n",
    "    y_test  = Y_for_meta[sc][test_split]\n",
    "    extra_train = extra_features[train_split_og]\n",
    "    extra_test = extra_features[test_split_og]\n",
    "    \n",
    "    extra_train = extra_train.reshape(len(X_train), -1)\n",
    "    extra_test  = extra_test.reshape(len(X_test), -1)\n",
    "    \n",
    "    X_train = np.concatenate((X_train, extra_train), 1)\n",
    "    X_test = np.concatenate((X_test, extra_test), 1)\n",
    "\n",
    "    meta_clfs[sc].fit(X_train, y_train, eval_set=(X_test, y_test))\n",
    "    preds = meta_clfs[sc].predict_proba(X_test)[:, 1]\n",
    "    preds_train = meta_clfs[sc].predict_proba(X_train)[:, 1]\n",
    "    \n",
    "    print(f\"{sc} AUC (train): {roc_auc_score(y_train, preds_train)}\")\n",
    "    scores = score(y_test, preds)\n",
    "    scores.pop('fpr', None)\n",
    "    scores.pop('tpr', None)\n",
    "    display(pd.DataFrame([scores]))\n",
    "    avg += scores['TPR_FPR_1000']\n",
    "\n",
    "print(\"Average score\", avg / 3)"
   ]
  },
  {
   "cell_type": "markdown",
   "metadata": {},
   "source": [
    "## Collect features"
   ]
  },
  {
   "cell_type": "code",
   "execution_count": null,
   "metadata": {},
   "outputs": [
    {
     "name": "stdout",
     "output_type": "stream",
     "text": [
      "Successfully loaded the Purchase-100 dataset consisting of 197324 records and 600 attributes.\n"
     ]
    },
    {
     "data": {
      "application/vnd.jupyter.widget-view+json": {
       "model_id": "d782707f601148159d1fa9f70947759f",
       "version_major": 2,
       "version_minor": 0
      },
      "text/plain": [
       "scenario:   0%|          | 0/3 [00:00<?, ?it/s]"
      ]
     },
     "metadata": {},
     "output_type": "display_data"
    },
    {
     "data": {
      "application/vnd.jupyter.widget-view+json": {
       "model_id": "cec185b4e74e488091c0267d180003ca",
       "version_major": 2,
       "version_minor": 0
      },
      "text/plain": [
       "phase:   0%|          | 0/3 [00:00<?, ?it/s]"
      ]
     },
     "metadata": {},
     "output_type": "display_data"
    },
    {
     "data": {
      "application/vnd.jupyter.widget-view+json": {
       "model_id": "cff43203a81c4d5e9e93ad64e7c70905",
       "version_major": 2,
       "version_minor": 0
      },
      "text/plain": [
       "model:   0%|          | 0/50 [00:00<?, ?it/s]"
      ]
     },
     "metadata": {},
     "output_type": "display_data"
    },
    {
     "data": {
      "application/vnd.jupyter.widget-view+json": {
       "model_id": "fad71533fc8949a0a06f6fcfd43befa4",
       "version_major": 2,
       "version_minor": 0
      },
      "text/plain": [
       "model:   0%|          | 0/50 [00:00<?, ?it/s]"
      ]
     },
     "metadata": {},
     "output_type": "display_data"
    },
    {
     "data": {
      "application/vnd.jupyter.widget-view+json": {
       "model_id": "33d81f831f9540689d6851500751b62d",
       "version_major": 2,
       "version_minor": 0
      },
      "text/plain": [
       "model:   0%|          | 0/100 [00:00<?, ?it/s]"
      ]
     },
     "metadata": {},
     "output_type": "display_data"
    }
   ],
   "source": [
    "CHALLENGE = \"purchase100\"\n",
    "LEN_TRAINING = 150000\n",
    "LEN_CHALLENGE = 100\n",
    "\n",
    "scenarios = os.listdir(CHALLENGE)\n",
    "phases = ['dev', 'final', 'train']\n",
    "stored_features = {}\n",
    "\n",
    "dataset = load_purchase100(dataset_dir=\"/u/as9rw/work/MICO/data\")\n",
    "\n",
    "for i, scenario in tqdm(enumerate(scenarios), desc=\"scenario\", total=3):\n",
    "    stored_features[scenario] = {}\n",
    "    for phase in tqdm(phases, desc=\"phase\"):\n",
    "        stored_features[scenario][phase] = []\n",
    "        root = os.path.join(CHALLENGE, scenario, phase)\n",
    "        all_except = np.arange(100)\n",
    "        for j, model_folder in tqdm(enumerate(sorted(os.listdir(root), key=lambda d: int(d.split('_')[1]))), desc=\"model\", total=len(os.listdir(root))):\n",
    "            path = os.path.join(root, model_folder)\n",
    "            challenge_dataset = ChallengeDataset.from_path(path, dataset=dataset, len_training=LEN_TRAINING)\n",
    "            challenge_points = challenge_dataset.get_challenges()\n",
    "            \n",
    "            model = load_model('purchase100', path)\n",
    "            challenge_dataloader = torch.utils.data.DataLoader(challenge_points, batch_size=2*LEN_CHALLENGE)\n",
    "            features, labels = next(iter(challenge_dataloader))\n",
    "\n",
    "            model.cuda()\n",
    "            features, labels = features.cuda(), labels.cuda()\n",
    "            # Look at all models except this one\n",
    "            other_models = train_models[scenario][np.delete(all_except, j)]\n",
    "            other_models = np.random.choice(other_models, num_use_others, replace=False)\n",
    "            features_collected = np.array([matt_modified_scores(model, features, labels, other_model.cuda()) for other_model in other_models])\n",
    "            scores = np.stack((\n",
    "                np.max(features_collected[:, :, 0], 0) - np.min(features_collected[:, :,  0], 0),\n",
    "                np.max(features_collected[:, :,  1], 0) - np.min(features_collected[:, :,  1], 0),\n",
    "                np.sum(np.abs(features_collected[:, :,  0]), 0),\n",
    "                np.sum(np.abs(features_collected[:, :,  1]), 0),\n",
    "                np.min(features_collected[:, :,  0], 0),\n",
    "                np.min(features_collected[:, :,  1], 0),\n",
    "                np.max(features_collected[:, :,  0], 0),\n",
    "                np.max(features_collected[:, :,  1], 0),\n",
    "            ), 1)\n",
    "            # Also get scaled logit scores while at it\n",
    "            other_features = custom_feature_collection(model, features, labels)\n",
    "            processed_features = np.concatenate((scores, other_features), 1)\n",
    "            # MATT-inspired + custom features\n",
    "            stored_features[scenario][phase].append(processed_features)"
   ]
  },
  {
   "cell_type": "markdown",
   "metadata": {},
   "source": [
    "## Generate predictions"
   ]
  },
  {
   "cell_type": "code",
   "execution_count": 102,
   "metadata": {},
   "outputs": [
    {
     "name": "stdout",
     "output_type": "stream",
     "text": [
      "Successfully loaded the Purchase-100 dataset consisting of 197324 records and 600 attributes.\n"
     ]
    },
    {
     "data": {
      "application/vnd.jupyter.widget-view+json": {
       "model_id": "293b5c0af568452684ceac4b22b502c3",
       "version_major": 2,
       "version_minor": 0
      },
      "text/plain": [
       "scenario:   0%|          | 0/3 [00:00<?, ?it/s]"
      ]
     },
     "metadata": {},
     "output_type": "display_data"
    },
    {
     "data": {
      "application/vnd.jupyter.widget-view+json": {
       "model_id": "283a5cfc68c448faa7c0e8a25ae36804",
       "version_major": 2,
       "version_minor": 0
      },
      "text/plain": [
       "phase:   0%|          | 0/3 [00:00<?, ?it/s]"
      ]
     },
     "metadata": {},
     "output_type": "display_data"
    },
    {
     "data": {
      "application/vnd.jupyter.widget-view+json": {
       "model_id": "c4a9144dbaff4b4285d6aca0d3ef3591",
       "version_major": 2,
       "version_minor": 0
      },
      "text/plain": [
       "model:   0%|          | 0/50 [00:00<?, ?it/s]"
      ]
     },
     "metadata": {},
     "output_type": "display_data"
    },
    {
     "data": {
      "application/vnd.jupyter.widget-view+json": {
       "model_id": "be8f68d597e94b73904b29b0538eb5ca",
       "version_major": 2,
       "version_minor": 0
      },
      "text/plain": [
       "model:   0%|          | 0/50 [00:00<?, ?it/s]"
      ]
     },
     "metadata": {},
     "output_type": "display_data"
    },
    {
     "data": {
      "application/vnd.jupyter.widget-view+json": {
       "model_id": "53de40441ab24c05a903be4db75f4918",
       "version_major": 2,
       "version_minor": 0
      },
      "text/plain": [
       "model:   0%|          | 0/100 [00:00<?, ?it/s]"
      ]
     },
     "metadata": {},
     "output_type": "display_data"
    },
    {
     "data": {
      "application/vnd.jupyter.widget-view+json": {
       "model_id": "d725aae5e720469e81ae74df637fcec3",
       "version_major": 2,
       "version_minor": 0
      },
      "text/plain": [
       "phase:   0%|          | 0/3 [00:00<?, ?it/s]"
      ]
     },
     "metadata": {},
     "output_type": "display_data"
    },
    {
     "data": {
      "application/vnd.jupyter.widget-view+json": {
       "model_id": "e29c0a3be3774b5fa1102debdd1c68e3",
       "version_major": 2,
       "version_minor": 0
      },
      "text/plain": [
       "model:   0%|          | 0/50 [00:00<?, ?it/s]"
      ]
     },
     "metadata": {},
     "output_type": "display_data"
    },
    {
     "data": {
      "application/vnd.jupyter.widget-view+json": {
       "model_id": "0d6351cd3b144954b8a07ee4cbf4d1ee",
       "version_major": 2,
       "version_minor": 0
      },
      "text/plain": [
       "model:   0%|          | 0/50 [00:00<?, ?it/s]"
      ]
     },
     "metadata": {},
     "output_type": "display_data"
    },
    {
     "data": {
      "application/vnd.jupyter.widget-view+json": {
       "model_id": "0f9fc85170a24f54ba20b18cde2bf92b",
       "version_major": 2,
       "version_minor": 0
      },
      "text/plain": [
       "model:   0%|          | 0/100 [00:00<?, ?it/s]"
      ]
     },
     "metadata": {},
     "output_type": "display_data"
    },
    {
     "data": {
      "application/vnd.jupyter.widget-view+json": {
       "model_id": "b8309096c89f41f08792f8a2f84b1e2e",
       "version_major": 2,
       "version_minor": 0
      },
      "text/plain": [
       "phase:   0%|          | 0/3 [00:00<?, ?it/s]"
      ]
     },
     "metadata": {},
     "output_type": "display_data"
    },
    {
     "data": {
      "application/vnd.jupyter.widget-view+json": {
       "model_id": "34ab200aa9b746ad9545c13b56cecef5",
       "version_major": 2,
       "version_minor": 0
      },
      "text/plain": [
       "model:   0%|          | 0/50 [00:00<?, ?it/s]"
      ]
     },
     "metadata": {},
     "output_type": "display_data"
    },
    {
     "data": {
      "application/vnd.jupyter.widget-view+json": {
       "model_id": "256c0c18d32f455e8a58893049a74e93",
       "version_major": 2,
       "version_minor": 0
      },
      "text/plain": [
       "model:   0%|          | 0/50 [00:00<?, ?it/s]"
      ]
     },
     "metadata": {},
     "output_type": "display_data"
    },
    {
     "data": {
      "application/vnd.jupyter.widget-view+json": {
       "model_id": "88ba409c5bcd4d89ad1322cad20c7f2e",
       "version_major": 2,
       "version_minor": 0
      },
      "text/plain": [
       "model:   0%|          | 0/100 [00:00<?, ?it/s]"
      ]
     },
     "metadata": {},
     "output_type": "display_data"
    }
   ],
   "source": [
    "CHALLENGE = \"purchase100\"\n",
    "LEN_TRAINING = 150000\n",
    "LEN_CHALLENGE = 100\n",
    "\n",
    "scenarios = os.listdir(CHALLENGE)\n",
    "phases = ['dev', 'final', 'train']\n",
    "\n",
    "dataset = load_purchase100(dataset_dir=\"/u/as9rw/work/MICO/data\")\n",
    "\n",
    "for i, scenario in tqdm(enumerate(scenarios), desc=\"scenario\", total=3):\n",
    "    for phase in tqdm(phases, desc=\"phase\"):\n",
    "        root = os.path.join(CHALLENGE, scenario, phase)\n",
    "        j = 0\n",
    "        for model_folder in tqdm(sorted(os.listdir(root), key=lambda d: int(d.split('_')[1])), desc=\"model\"):\n",
    "            path = os.path.join(root, model_folder)\n",
    "            features_use = stored_features[scenario][phase][j]\n",
    "            \n",
    "            # Using common meta-classifier\n",
    "#             features_use = np.concatenate((np.ones((len(features_use), 1)) * i, features_use), axis=1)\n",
    "#             predictions = meta_clf.predict_proba(features_use)[:, 1]\n",
    "            # Using scenario-wise meta-classifier\n",
    "            predictions = meta_clfs[scenario].predict_proba(features_use)[:, 1]\n",
    "            j += 1\n",
    "            assert np.all((0 <= predictions) & (predictions <= 1))\n",
    "\n",
    "            with open(os.path.join(path, \"prediction.csv\"), \"w\") as f:\n",
    "                 csv.writer(f).writerow(predictions)"
   ]
  },
  {
   "cell_type": "markdown",
   "metadata": {},
   "source": [
    "## Scoring\n",
    "\n",
    "Let's see how the attack does on `train`, for which we have the ground truth. \n",
    "When preparing a submission, you can use part of `train` to develop an attack and a held-out part to evaluate your attack. "
   ]
  },
  {
   "cell_type": "code",
   "execution_count": 103,
   "metadata": {},
   "outputs": [
    {
     "data": {
      "application/vnd.jupyter.widget-view+json": {
       "model_id": "cde62ec21de845f78d48c30d5eaa773b",
       "version_major": 2,
       "version_minor": 0
      },
      "text/plain": [
       "scenario:   0%|          | 0/3 [00:00<?, ?it/s]"
      ]
     },
     "metadata": {},
     "output_type": "display_data"
    },
    {
     "data": {
      "application/vnd.jupyter.widget-view+json": {
       "model_id": "63c54d0a39294d4aa04f1866643dadc2",
       "version_major": 2,
       "version_minor": 0
      },
      "text/plain": [
       "phase:   0%|          | 0/1 [00:00<?, ?it/s]"
      ]
     },
     "metadata": {},
     "output_type": "display_data"
    },
    {
     "data": {
      "application/vnd.jupyter.widget-view+json": {
       "model_id": "a5919a0599154650b2929e2e547f00c4",
       "version_major": 2,
       "version_minor": 0
      },
      "text/plain": [
       "model:   0%|          | 0/100 [00:00<?, ?it/s]"
      ]
     },
     "metadata": {},
     "output_type": "display_data"
    },
    {
     "data": {
      "application/vnd.jupyter.widget-view+json": {
       "model_id": "5f1dd7927aa9441fb6c216f0b24b482c",
       "version_major": 2,
       "version_minor": 0
      },
      "text/plain": [
       "phase:   0%|          | 0/1 [00:00<?, ?it/s]"
      ]
     },
     "metadata": {},
     "output_type": "display_data"
    },
    {
     "data": {
      "application/vnd.jupyter.widget-view+json": {
       "model_id": "21d9ed23798c446298415b9b27fba15c",
       "version_major": 2,
       "version_minor": 0
      },
      "text/plain": [
       "model:   0%|          | 0/100 [00:00<?, ?it/s]"
      ]
     },
     "metadata": {},
     "output_type": "display_data"
    },
    {
     "data": {
      "application/vnd.jupyter.widget-view+json": {
       "model_id": "f9edcf2e30ea4f7c89f4cb89efca7df0",
       "version_major": 2,
       "version_minor": 0
      },
      "text/plain": [
       "phase:   0%|          | 0/1 [00:00<?, ?it/s]"
      ]
     },
     "metadata": {},
     "output_type": "display_data"
    },
    {
     "data": {
      "application/vnd.jupyter.widget-view+json": {
       "model_id": "a8631788a55240f4b342f51ac1d1bd84",
       "version_major": 2,
       "version_minor": 0
      },
      "text/plain": [
       "model:   0%|          | 0/100 [00:00<?, ?it/s]"
      ]
     },
     "metadata": {},
     "output_type": "display_data"
    }
   ],
   "source": [
    "FPR_THRESHOLD = 0.1\n",
    "\n",
    "all_scores = {}\n",
    "phases = ['train']\n",
    "\n",
    "for scenario in tqdm(scenarios, desc=\"scenario\"): \n",
    "    all_scores[scenario] = {}    \n",
    "    for phase in tqdm(phases, desc=\"phase\"):\n",
    "        predictions = []\n",
    "        solutions  = []\n",
    "\n",
    "        root = os.path.join(CHALLENGE, scenario, phase)\n",
    "        for model_folder in tqdm(sorted(os.listdir(root), key=lambda d: int(d.split('_')[1])), desc=\"model\"):\n",
    "            path = os.path.join(root, model_folder)\n",
    "            predictions.append(np.loadtxt(os.path.join(path, \"prediction.csv\"), delimiter=\",\"))\n",
    "            solutions.append(np.loadtxt(os.path.join(path, \"solution.csv\"),   delimiter=\",\"))\n",
    "\n",
    "        predictions = np.concatenate(predictions)\n",
    "        solutions = np.concatenate(solutions)\n",
    "        \n",
    "        scores = score(solutions, predictions)\n",
    "        all_scores[scenario][phase] = scores"
   ]
  },
  {
   "cell_type": "markdown",
   "metadata": {},
   "source": [
    "Let's plot the ROC curve for the attack and see how the attack performed on different metrics"
   ]
  },
  {
   "cell_type": "code",
   "execution_count": 104,
   "metadata": {},
   "outputs": [
    {
     "data": {
      "image/png": "[encoded data removed]",
      "text/plain": [
       "<Figure size 800x350 with 2 Axes>"
      ]
     },
     "metadata": {},
     "output_type": "display_data"
    },
    {
     "data": {
      "image/png": "[encoded data removed]",
      "text/plain": [
       "<Figure size 800x350 with 2 Axes>"
      ]
     },
     "metadata": {},
     "output_type": "display_data"
    },
    {
     "data": {
      "image/png": "[encoded data removed]",
      "text/plain": [
       "<Figure size 800x350 with 2 Axes>"
      ]
     },
     "metadata": {},
     "output_type": "display_data"
    }
   ],
   "source": [
    "import matplotlib.pyplot as plt\n",
    "import matplotlib\n",
    "\n",
    "for scenario in scenarios:\n",
    "    fpr = all_scores[scenario]['train']['fpr']\n",
    "    tpr = all_scores[scenario]['train']['tpr']\n",
    "    fig = generate_roc(fpr, tpr)\n",
    "    fig.suptitle(f\"{scenario}\", x=-0.1, y=0.5)\n",
    "    fig.tight_layout(pad=1.0)"
   ]
  },
  {
   "cell_type": "code",
   "execution_count": 105,
   "metadata": {},
   "outputs": [
    {
     "name": "stdout",
     "output_type": "stream",
     "text": [
      "purchase100_inf\n"
     ]
    },
    {
     "data": {
      "text/html": [
       "<div>\n",
       "<style scoped>\n",
       "    .dataframe tbody tr th:only-of-type {\n",
       "        vertical-align: middle;\n",
       "    }\n",
       "\n",
       "    .dataframe tbody tr th {\n",
       "        vertical-align: top;\n",
       "    }\n",
       "\n",
       "    .dataframe thead th {\n",
       "        text-align: right;\n",
       "    }\n",
       "</style>\n",
       "<table border=\"1\" class=\"dataframe\">\n",
       "  <thead>\n",
       "    <tr style=\"text-align: right;\">\n",
       "      <th></th>\n",
       "      <th>TPR_FPR_10</th>\n",
       "      <th>TPR_FPR_100</th>\n",
       "      <th>TPR_FPR_500</th>\n",
       "      <th>TPR_FPR_1000</th>\n",
       "      <th>TPR_FPR_1500</th>\n",
       "      <th>TPR_FPR_2000</th>\n",
       "      <th>AUC</th>\n",
       "      <th>MIA</th>\n",
       "      <th>accuracy</th>\n",
       "    </tr>\n",
       "  </thead>\n",
       "  <tbody>\n",
       "    <tr>\n",
       "      <th>0</th>\n",
       "      <td>0.0144</td>\n",
       "      <td>0.0616</td>\n",
       "      <td>0.1525</td>\n",
       "      <td>0.2388</td>\n",
       "      <td>0.3131</td>\n",
       "      <td>0.38</td>\n",
       "      <td>0.668182</td>\n",
       "      <td>0.2201</td>\n",
       "      <td>0.61005</td>\n",
       "    </tr>\n",
       "  </tbody>\n",
       "</table>\n",
       "</div>"
      ],
      "text/plain": [
       "   TPR_FPR_10  TPR_FPR_100  TPR_FPR_500  TPR_FPR_1000  TPR_FPR_1500  \\\n",
       "0      0.0144       0.0616       0.1525        0.2388        0.3131   \n",
       "\n",
       "   TPR_FPR_2000       AUC     MIA  accuracy  \n",
       "0          0.38  0.668182  0.2201   0.61005  "
      ]
     },
     "metadata": {},
     "output_type": "display_data"
    },
    {
     "name": "stdout",
     "output_type": "stream",
     "text": [
      "purchase100_hi\n"
     ]
    },
    {
     "data": {
      "text/html": [
       "<div>\n",
       "<style scoped>\n",
       "    .dataframe tbody tr th:only-of-type {\n",
       "        vertical-align: middle;\n",
       "    }\n",
       "\n",
       "    .dataframe tbody tr th {\n",
       "        vertical-align: top;\n",
       "    }\n",
       "\n",
       "    .dataframe thead th {\n",
       "        text-align: right;\n",
       "    }\n",
       "</style>\n",
       "<table border=\"1\" class=\"dataframe\">\n",
       "  <thead>\n",
       "    <tr style=\"text-align: right;\">\n",
       "      <th></th>\n",
       "      <th>TPR_FPR_10</th>\n",
       "      <th>TPR_FPR_100</th>\n",
       "      <th>TPR_FPR_500</th>\n",
       "      <th>TPR_FPR_1000</th>\n",
       "      <th>TPR_FPR_1500</th>\n",
       "      <th>TPR_FPR_2000</th>\n",
       "      <th>AUC</th>\n",
       "      <th>MIA</th>\n",
       "      <th>accuracy</th>\n",
       "    </tr>\n",
       "  </thead>\n",
       "  <tbody>\n",
       "    <tr>\n",
       "      <th>0</th>\n",
       "      <td>0.0028</td>\n",
       "      <td>0.0174</td>\n",
       "      <td>0.0717</td>\n",
       "      <td>0.1414</td>\n",
       "      <td>0.1961</td>\n",
       "      <td>0.2576</td>\n",
       "      <td>0.556173</td>\n",
       "      <td>0.0798</td>\n",
       "      <td>0.5399</td>\n",
       "    </tr>\n",
       "  </tbody>\n",
       "</table>\n",
       "</div>"
      ],
      "text/plain": [
       "   TPR_FPR_10  TPR_FPR_100  TPR_FPR_500  TPR_FPR_1000  TPR_FPR_1500  \\\n",
       "0      0.0028       0.0174       0.0717        0.1414        0.1961   \n",
       "\n",
       "   TPR_FPR_2000       AUC     MIA  accuracy  \n",
       "0        0.2576  0.556173  0.0798    0.5399  "
      ]
     },
     "metadata": {},
     "output_type": "display_data"
    },
    {
     "name": "stdout",
     "output_type": "stream",
     "text": [
      "purchase100_lo\n"
     ]
    },
    {
     "data": {
      "text/html": [
       "<div>\n",
       "<style scoped>\n",
       "    .dataframe tbody tr th:only-of-type {\n",
       "        vertical-align: middle;\n",
       "    }\n",
       "\n",
       "    .dataframe tbody tr th {\n",
       "        vertical-align: top;\n",
       "    }\n",
       "\n",
       "    .dataframe thead th {\n",
       "        text-align: right;\n",
       "    }\n",
       "</style>\n",
       "<table border=\"1\" class=\"dataframe\">\n",
       "  <thead>\n",
       "    <tr style=\"text-align: right;\">\n",
       "      <th></th>\n",
       "      <th>TPR_FPR_10</th>\n",
       "      <th>TPR_FPR_100</th>\n",
       "      <th>TPR_FPR_500</th>\n",
       "      <th>TPR_FPR_1000</th>\n",
       "      <th>TPR_FPR_1500</th>\n",
       "      <th>TPR_FPR_2000</th>\n",
       "      <th>AUC</th>\n",
       "      <th>MIA</th>\n",
       "      <th>accuracy</th>\n",
       "    </tr>\n",
       "  </thead>\n",
       "  <tbody>\n",
       "    <tr>\n",
       "      <th>0</th>\n",
       "      <td>0.0016</td>\n",
       "      <td>0.0188</td>\n",
       "      <td>0.0711</td>\n",
       "      <td>0.1418</td>\n",
       "      <td>0.199</td>\n",
       "      <td>0.2526</td>\n",
       "      <td>0.549566</td>\n",
       "      <td>0.0734</td>\n",
       "      <td>0.5367</td>\n",
       "    </tr>\n",
       "  </tbody>\n",
       "</table>\n",
       "</div>"
      ],
      "text/plain": [
       "   TPR_FPR_10  TPR_FPR_100  TPR_FPR_500  TPR_FPR_1000  TPR_FPR_1500  \\\n",
       "0      0.0016       0.0188       0.0711        0.1418         0.199   \n",
       "\n",
       "   TPR_FPR_2000       AUC     MIA  accuracy  \n",
       "0        0.2526  0.549566  0.0734    0.5367  "
      ]
     },
     "metadata": {},
     "output_type": "display_data"
    }
   ],
   "source": [
    "import pandas as pd\n",
    "\n",
    "for scenario in scenarios:\n",
    "    print(scenario)\n",
    "    scores = all_scores[scenario]['train']\n",
    "    scores.pop('fpr', None)\n",
    "    scores.pop('tpr', None)\n",
    "    display(pd.DataFrame([scores]))"
   ]
  },
  {
   "cell_type": "markdown",
   "metadata": {},
   "source": [
    "## Packaging the submission\n",
    "\n",
    "Now we can store the predictions into a zip file, which you can submit to CodaLab."
   ]
  },
  {
   "cell_type": "code",
   "execution_count": 106,
   "metadata": {},
   "outputs": [
    {
     "data": {
      "application/vnd.jupyter.widget-view+json": {
       "model_id": "63aada144e804462838abcd203fa76fb",
       "version_major": 2,
       "version_minor": 0
      },
      "text/plain": [
       "scenario:   0%|          | 0/3 [00:00<?, ?it/s]"
      ]
     },
     "metadata": {},
     "output_type": "display_data"
    },
    {
     "data": {
      "application/vnd.jupyter.widget-view+json": {
       "model_id": "b1cdc8f91da447f1808fe262efafa09d",
       "version_major": 2,
       "version_minor": 0
      },
      "text/plain": [
       "phase:   0%|          | 0/2 [00:00<?, ?it/s]"
      ]
     },
     "metadata": {},
     "output_type": "display_data"
    },
    {
     "data": {
      "application/vnd.jupyter.widget-view+json": {
       "model_id": "144a5c28a3f641c7abfbbdfccb3bda3e",
       "version_major": 2,
       "version_minor": 0
      },
      "text/plain": [
       "model:   0%|          | 0/50 [00:00<?, ?it/s]"
      ]
     },
     "metadata": {},
     "output_type": "display_data"
    },
    {
     "data": {
      "application/vnd.jupyter.widget-view+json": {
       "model_id": "601fe4af3a3946238485005245cc8a5d",
       "version_major": 2,
       "version_minor": 0
      },
      "text/plain": [
       "model:   0%|          | 0/50 [00:00<?, ?it/s]"
      ]
     },
     "metadata": {},
     "output_type": "display_data"
    },
    {
     "data": {
      "application/vnd.jupyter.widget-view+json": {
       "model_id": "905b98ec392d4de09dfdc4768ca24331",
       "version_major": 2,
       "version_minor": 0
      },
      "text/plain": [
       "phase:   0%|          | 0/2 [00:00<?, ?it/s]"
      ]
     },
     "metadata": {},
     "output_type": "display_data"
    },
    {
     "data": {
      "application/vnd.jupyter.widget-view+json": {
       "model_id": "79e84aae31ba41619fda3865b83da43e",
       "version_major": 2,
       "version_minor": 0
      },
      "text/plain": [
       "model:   0%|          | 0/50 [00:00<?, ?it/s]"
      ]
     },
     "metadata": {},
     "output_type": "display_data"
    },
    {
     "data": {
      "application/vnd.jupyter.widget-view+json": {
       "model_id": "fc498c3e31e24d88a926071fa08c1957",
       "version_major": 2,
       "version_minor": 0
      },
      "text/plain": [
       "model:   0%|          | 0/50 [00:00<?, ?it/s]"
      ]
     },
     "metadata": {},
     "output_type": "display_data"
    },
    {
     "data": {
      "application/vnd.jupyter.widget-view+json": {
       "model_id": "2b434008a6ab4f60a19a1a9d4c285599",
       "version_major": 2,
       "version_minor": 0
      },
      "text/plain": [
       "phase:   0%|          | 0/2 [00:00<?, ?it/s]"
      ]
     },
     "metadata": {},
     "output_type": "display_data"
    },
    {
     "data": {
      "application/vnd.jupyter.widget-view+json": {
       "model_id": "fcb22095d6ab46f9a126e401e9041e06",
       "version_major": 2,
       "version_minor": 0
      },
      "text/plain": [
       "model:   0%|          | 0/50 [00:00<?, ?it/s]"
      ]
     },
     "metadata": {},
     "output_type": "display_data"
    },
    {
     "data": {
      "application/vnd.jupyter.widget-view+json": {
       "model_id": "88e6682fc40c47fda188aea3425bc23b",
       "version_major": 2,
       "version_minor": 0
      },
      "text/plain": [
       "model:   0%|          | 0/50 [00:00<?, ?it/s]"
      ]
     },
     "metadata": {},
     "output_type": "display_data"
    }
   ],
   "source": [
    "import zipfile\n",
    "\n",
    "phases = ['dev', 'final']\n",
    "experiment_name = \"autosklearn_15m_cv\"\n",
    "\n",
    "with zipfile.ZipFile(f\"submissions/{experiment_name}.zip\", 'w') as zipf:\n",
    "    for scenario in tqdm(scenarios, desc=\"scenario\"): \n",
    "        for phase in tqdm(phases, desc=\"phase\"):\n",
    "            root = os.path.join(CHALLENGE, scenario, phase)\n",
    "            for model_folder in tqdm(sorted(os.listdir(root), key=lambda d: int(d.split('_')[1])), desc=\"model\"):\n",
    "                path = os.path.join(root, model_folder)\n",
    "                file = os.path.join(path, \"prediction.csv\")\n",
    "                if os.path.exists(file):\n",
    "                    zipf.write(file)\n",
    "                else:\n",
    "                    raise FileNotFoundError(f\"`prediction.csv` not found in {path}. You need to provide predictions for all challenges\")"
   ]
  },
  {
   "cell_type": "code",
   "execution_count": null,
   "metadata": {},
   "outputs": [],
   "source": []
  }
 ],
 "metadata": {
  "kernelspec": {
   "display_name": "Python (mico)",
   "language": "python",
   "name": "mico"
  },
  "language_info": {
   "codemirror_mode": {
    "name": "ipython",
    "version": 3
   },
   "file_extension": ".py",
   "mimetype": "text/x-python",
   "name": "python",
   "nbconvert_exporter": "python",
   "pygments_lexer": "ipython3",
   "version": "3.8.13"
  },
  "vscode": {
   "interpreter": {
    "hash": "1c823568a0650a753a55947c22141ec594c2fc02bd68b5a71e505ecc57f17796"
   }
  }
 },
 "nbformat": 4,
 "nbformat_minor": 2
}
