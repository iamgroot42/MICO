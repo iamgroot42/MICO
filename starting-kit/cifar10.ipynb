{
 "cells": [
  {
   "cell_type": "markdown",
   "id": "a66af3a1",
   "metadata": {},
   "source": [
    "Start by downloading relevant data from the MICO competition, which can be found [here](https://codalab.lisn.upsaclay.fr/competitions/8551#participate-submit_results) (for CIFAR)."
   ]
  },
  {
   "cell_type": "code",
   "execution_count": 1,
   "id": "35ef4a54",
   "metadata": {},
   "outputs": [],
   "source": [
    "import os\n",
    "import urllib\n",
    "\n",
    "from torchvision.datasets.utils import download_and_extract_archive\n",
    "from sklearn.metrics import roc_curve, roc_auc_score\n",
    "\n",
    "from mico_competition.scoring import tpr_at_fpr, score, generate_roc, generate_table\n",
    "from sklearn.metrics import roc_curve, roc_auc_score\n",
    "\n",
    "import numpy as np\n",
    "import torch\n",
    "import csv\n",
    "import copy\n",
    "\n",
    "from torch.autograd import Variable\n",
    "from sklearn import metrics\n",
    "from tqdm.notebook import tqdm\n",
    "from torch.distributions import normal\n",
    "from torch.utils.data import DataLoader, Dataset\n",
    "from mico_competition import ChallengeDataset, load_cifar10, load_model\n",
    "from torch.distributions import Categorical\n",
    "import torch.nn.utils.prune as prune\n",
    "\n",
    "import pandas as pd\n",
    "import matplotlib.pyplot as plt\n",
    "import matplotlib\n",
    "import torch as ch\n",
    "import torch.nn as nn\n",
    "\n",
    "from sklearn.model_selection import train_test_split\n",
    "from sklearn import preprocessing\n",
    "from sklearn.inspection import permutation_importance\n",
    "from sklearn.preprocessing import StandardScaler\n",
    "from sklearn.pipeline import make_pipeline\n",
    "from sklearn import tree\n",
    "from scipy.stats import norm\n",
    "\n",
    "import autosklearn.classification\n",
    "import autosklearn.metrics"
   ]
  },
  {
   "cell_type": "code",
   "execution_count": 2,
   "id": "aae0bfc9",
   "metadata": {},
   "outputs": [],
   "source": [
    "def normalize_preds(preds):\n",
    "    \"\"\"\n",
    "        Function to normalize given predictions to [0, 1] scale.\n",
    "    \"\"\"\n",
    "    # Normalize to unit interval\n",
    "    min_prediction = np.min(preds)\n",
    "    max_prediction = np.max(preds)\n",
    "    preds = (preds - min_prediction) / (max_prediction - min_prediction)\n",
    "    return preds"
   ]
  },
  {
   "cell_type": "code",
   "execution_count": 3,
   "id": "c510051a",
   "metadata": {},
   "outputs": [],
   "source": [
    "def get_class_scaled_logits(model, features, labels):\n",
    "    \"\"\"\n",
    "        Use the approach described in LiRA (https://arxiv.org/abs/2112.03570) to use\n",
    "        class-scaled logits instead of direct probabilities.\n",
    "    \"\"\"\n",
    "    outputs = model(features).detach().cpu().numpy()\n",
    "    num_classes = np.arange(outputs.shape[1])\n",
    "    values = []\n",
    "    for i, output in enumerate(outputs):\n",
    "        label = labels[i].item()\n",
    "        wanted = output[label]\n",
    "        not_wanted = output[np.delete(num_classes, label)]\n",
    "        values.append(wanted - np.max(not_wanted))\n",
    "    return np.array(values)"
   ]
  },
  {
   "cell_type": "code",
   "execution_count": 4,
   "id": "f59183e8",
   "metadata": {},
   "outputs": [],
   "source": [
    "@torch.no_grad()\n",
    "def relative_log_merlin(model, features, labels):\n",
    "    \"\"\"\n",
    "        Use the MERLIN (https://arxiv.org/abs/2005.10881) approach to sample neighbors and note\n",
    "        variation in model loss. Modification uses log-scale while noting loss differences.\n",
    "    \"\"\"\n",
    "    epsilon = 0.5\n",
    "    small_value = 1e-10\n",
    "    n_neighbors = 50\n",
    "    criterion = torch.nn.CrossEntropyLoss(reduction='none')\n",
    "    noise = normal.Normal(0, epsilon)\n",
    "    diffs = []\n",
    "    base_preds = model(features)\n",
    "    base_losses = criterion(base_preds, labels).cpu().numpy()\n",
    "    base_preds = base_preds.cpu().numpy()\n",
    "    for i, feature in enumerate(features):\n",
    "        neighbors = []\n",
    "        distances = []\n",
    "        for _ in range(n_neighbors):\n",
    "            sampled_noise = noise.sample(feature.shape).to(feature.device)\n",
    "            neighbors.append(feature + sampled_noise)\n",
    "            distances.append(sampled_noise.mean().cpu().item())\n",
    "        neighbors = torch.stack(neighbors, 0)\n",
    "        loss_neighbors = criterion(model(neighbors), labels[i].view(1).repeat(n_neighbors))\n",
    "        loss_change = ch.norm((loss_neighbors - base_losses[i])).item()\n",
    "        # Use relative drop instead of absolute\n",
    "        loss_change /= (small_value + base_losses[i].item())\n",
    "        diffs.append(np.log(loss_change + small_value))\n",
    "    diffs = np.array(diffs)\n",
    "    # Clip at zero (lower side)\n",
    "    diffs[diffs < 0] = 0\n",
    "    return diffs"
   ]
  },
  {
   "cell_type": "code",
   "execution_count": 5,
   "id": "45d53ab9",
   "metadata": {},
   "outputs": [],
   "source": [
    "def ascent_recovery(model, features, labels, adv: bool = False):\n",
    "    \"\"\"\n",
    "        Use gradient-ascent on the given data (and training loss) to make modifications to the input.\n",
    "        Makes note of change in model loss after gradient ascent, as well as the change in the input itself.\n",
    "        Idea: member would have less scope for loss reduction (and consequently smaller changes to the datum itself).\n",
    "    \"\"\"\n",
    "    criterion = torch.nn.CrossEntropyLoss(reduction='none')\n",
    "    n_times = 10\n",
    "    step_size = 0.01 if adv else 0.1 # For normal, use higher\n",
    "    final_losses, final_dist = [], []\n",
    "    for i, (feature, label) in enumerate(zip(features, labels)):\n",
    "        model.zero_grad()\n",
    "        feature_var = Variable(feature.clone().detach(), requires_grad=True)\n",
    "        for j in range(n_times):\n",
    "            feature_var = Variable(feature_var.clone().detach(), requires_grad=True)\n",
    "            loss = criterion(model(ch.unsqueeze(feature_var, 0)), torch.unsqueeze(label, 0))\n",
    "            loss.backward(ch.ones_like(loss), retain_graph=True)\n",
    "            with ch.no_grad():\n",
    "                if adv:\n",
    "                    feature_var.data += step_size * feature_var.data\n",
    "                else:\n",
    "                    feature_var.data -= step_size * feature_var.data\n",
    "                loss_new = criterion(model(ch.unsqueeze(feature_var, 0)), ch.unsqueeze(label, 0))\n",
    "        # Get reduction in loss\n",
    "        final_losses.append(loss.item() - loss_new.item())\n",
    "        # Get change in data (norm)\n",
    "        final_dist.append(ch.norm(feature_var.data - feature.data).detach().cpu().numpy())\n",
    "    final_losses = np.stack((final_losses, final_dist), 1)\n",
    "    return final_losses.reshape(-1, 2)"
   ]
  },
  {
   "cell_type": "code",
   "execution_count": 6,
   "id": "00eece15",
   "metadata": {},
   "outputs": [],
   "source": [
    "def extended_epoch(model, features, labels, use_dp: bool = False):\n",
    "    \"\"\"\n",
    "        \"Train\" model on given data to see how much loss changes.\n",
    "        If was with DP, not seen many times (and with clipped gradient), so\n",
    "        expected loss decrease would be much more than that for some point\n",
    "        that has already been seen multiple times. While at it, also take note of gradient norms\n",
    "        P.S I tried using the learning rates corresponding to different training mechanisms,\n",
    "        turns out that using the same, higher LR, works out best in practice.\n",
    "    \"\"\"\n",
    "    # \n",
    "    lr = 0.05 # if use_dp else 0.0005\n",
    "    criterion = nn.CrossEntropyLoss(reduction='none')\n",
    "    features_collected = []\n",
    "    # Note losses currently\n",
    "    base_preds = model(features).detach()\n",
    "    base_losses = criterion(base_preds, labels).cpu().numpy()\n",
    "    for i, (feature, label) in enumerate(zip(features, labels)):\n",
    "        # Make copy of model\n",
    "        model_ = copy.deepcopy(model)\n",
    "        model_.train()\n",
    "        model_.cuda()\n",
    "        optimizer = ch.optim.SGD(model_.parameters(), lr=lr, momentum=0)\n",
    "        optimizer.zero_grad()\n",
    "        loss = criterion(model_(ch.unsqueeze(feature, 0)), ch.unsqueeze(label, 0))\n",
    "        loss.backward()\n",
    "        optimizer.step()\n",
    "        # Keep track of gradient norms\n",
    "        gradient_norms = [ch.linalg.norm(x.grad.detach().cpu()).item() for x in model_.parameters()]\n",
    "        # Keep track of updated loss\n",
    "        loss_new = criterion(model_(ch.unsqueeze(feature, 0)), ch.unsqueeze(label, 0)).detach().cpu().numpy()\n",
    "        loss_difference = (base_losses[i] - loss_new).item()\n",
    "        gradient_norms += [loss_difference]\n",
    "        features_collected.append(gradient_norms)\n",
    "    features_collected = np.array(features_collected)\n",
    "    features_collected = features_collected.reshape(features_collected.shape[0], -1)\n",
    "    # Do not care about biases or loss diff\n",
    "    features_collected = features_collected[:, [0, 2, 4]]\n",
    "    # features_collected = np.log(features_collected + 1e-10)\n",
    "    return features_collected.reshape(features_collected.shape[0], -1)"
   ]
  },
  {
   "cell_type": "code",
   "execution_count": 7,
   "id": "3314852e",
   "metadata": {},
   "outputs": [],
   "source": [
    "def blind_walk(model, features, labels):\n",
    "    \"\"\"\n",
    "        Inspired by dataset inference (https://arxiv.org/abs/2104.10706)\n",
    "        Take fixed-size steps in random directions (but same random direction)\n",
    "        and keep track of how many steps it takes to flip classification.\n",
    "        Idea: members/non-members would have different proximity to decision boundaries\n",
    "        and thus would have different statistics for this result.\n",
    "    \"\"\"\n",
    "    # Track the number of steps taken until decision flips \n",
    "    # Walk no more than 100 steps, and try 10 different random directions\n",
    "    num_directions = 10\n",
    "    num_max_steps = 100\n",
    "    point_of_failure = np.ones((num_directions, features.shape[0])) * np.inf\n",
    "    std = 0.1\n",
    "    for j in range(num_directions):\n",
    "        noise = ch.randn_like(features) * std\n",
    "        for i in range(1, num_max_steps + 1):\n",
    "            new_labels = ch.argmax(model(features + noise * i).detach(), 1)\n",
    "            flipped = np.nonzero((new_labels != labels).cpu().numpy())[0]\n",
    "            point_of_failure[j][flipped] = np.minimum(point_of_failure[j][flipped], i)\n",
    "    point_of_failure = np.clip(point_of_failure, 0, num_max_steps)\n",
    "    point_of_failure = np.mean(point_of_failure, 0)\n",
    "    return point_of_failure.reshape(-1, 1)"
   ]
  },
  {
   "cell_type": "code",
   "execution_count": 8,
   "id": "f2bf0a97",
   "metadata": {},
   "outputs": [],
   "source": [
    "def custom_feature_collection(model, features, labels, use_dp: bool = False):\n",
    "    \"\"\"\n",
    "        Collect all of the features described above. Also include an 'adv' variant for\n",
    "        gradient-ascent that insted looks to maximize loss instead of minimizing it.\n",
    "    \"\"\"\n",
    "    features_collected = []\n",
    "    features_collected.append(ascent_recovery(model, features, labels))\n",
    "    features_collected.append(ascent_recovery(model, features, labels, adv = True))\n",
    "    features_collected.append(extended_epoch(model, features, labels, use_dp = use_dp))\n",
    "    features_collected.append(relative_log_merlin(model, features, labels).reshape(-1, 1))\n",
    "    features_collected.append(get_class_scaled_logits(model, features, labels).reshape(-1, 1))\n",
    "    features_collected.append(blind_walk(model, features, labels).reshape(-1, 1))\n",
    "    combined_feratures = np.concatenate(features_collected, 1)\n",
    "    return combined_feratures"
   ]
  },
  {
   "cell_type": "code",
   "execution_count": 9,
   "id": "170d5e21",
   "metadata": {},
   "outputs": [],
   "source": [
    "def matt_modified_scores(model, features, labels, model_reference):\n",
    "    \"\"\"\n",
    "        MATT attack from https://arxiv.org/pdf/1908.11229.pdf\n",
    "        Modified to adapt to the availability of auxiliary models.\n",
    "        Works by comouting gradient alignment between the given model and another reference model.\n",
    "        Idea: given the problem setup, any datapoint is more likely to be a member of a reference model\n",
    "        than not being a member. This attack seeks to utilize this information by\n",
    "        computing these alignment statistics over multiple reference models.\n",
    "    \"\"\"\n",
    "    criterion = nn.CrossEntropyLoss(reduction='none')\n",
    "    cos = nn.CosineSimilarity(dim=0)\n",
    "    features_collected = []\n",
    "\n",
    "    # Make copy of model\n",
    "    model_ = copy.deepcopy(model)\n",
    "    model_.cuda()\n",
    "\n",
    "    for i, (feature, label) in enumerate(zip(features, labels)):\n",
    "        # Compute gradients with both models\n",
    "        model_.zero_grad()\n",
    "        model_reference.zero_grad()\n",
    "        loss = criterion(model_(ch.unsqueeze(feature, 0)), ch.unsqueeze(label, 0))\n",
    "        loss_ref = criterion(model_reference(ch.unsqueeze(feature, 0)), ch.unsqueeze(label, 0))\n",
    "        loss.backward()\n",
    "        loss_ref.backward()\n",
    "        \n",
    "        # Compute product\n",
    "        inner_features = []\n",
    "        for p1, p2 in zip(model_.parameters(), model_reference.parameters()):\n",
    "            term = ch.dot(p1.grad.detach().flatten(), p2.grad.detach().flatten()).item()\n",
    "            inner_features.append(term)\n",
    "        features_collected.append(inner_features)\n",
    "    features_collected = np.array(features_collected)\n",
    "    # Focus only on weight-related parameters\n",
    "    features_collected = features_collected[:, [0, 2, 4, 6]]\n",
    "    return features_collected"
   ]
  },
  {
   "cell_type": "code",
   "execution_count": 19,
   "id": "248c49fb",
   "metadata": {},
   "outputs": [],
   "source": [
    "def extract_features_for_reference_models(reference_features):\n",
    "    num_layers_collected = reference_features.shape[2]\n",
    "    features = []\n",
    "    for i in range(num_layers_collected):\n",
    "        features.append((\n",
    "            np.max(reference_features[:, :, i], 0) - np.min(reference_features[:, :,  i], 0),\n",
    "            np.sum(np.abs(reference_features[:, :,  i]), 0),\n",
    "            np.min(reference_features[:, :,  i], 0),\n",
    "            np.max(reference_features[:, :,  i], 0)\n",
    "        ))\n",
    "    return np.concatenate(features, 0).T"
   ]
  },
  {
   "cell_type": "code",
   "execution_count": 14,
   "id": "9afd528f",
   "metadata": {},
   "outputs": [],
   "source": [
    "def collect_models():\n",
    "    \"\"\"\n",
    "        Collect all models from the 'train' set\n",
    "    \"\"\"\n",
    "    CHALLENGE = \"cifar10\"\n",
    "    LEN_TRAINING = 50000\n",
    "    LEN_CHALLENGE = 100\n",
    "    scenarios = os.listdir(CHALLENGE)\n",
    "\n",
    "    dataset = load_cifar10(dataset_dir=\"/u/as9rw/work/MICO/data\")\n",
    "\n",
    "    collected_models = {x:[] for x in scenarios}\n",
    "    phase = \"train\"\n",
    "    for scenario in tqdm(scenarios, desc=\"scenario\"):\n",
    "        root = os.path.join(CHALLENGE, scenario, phase)\n",
    "        for model_folder in tqdm(sorted(os.listdir(root), key=lambda d: int(d.split('_')[1])), desc=\"model\"):\n",
    "            path = os.path.join(root, model_folder)\n",
    "            challenge_dataset = ChallengeDataset.from_path(path, dataset=dataset, len_training=LEN_TRAINING)\n",
    "            challenge_points = challenge_dataset.get_challenges()\n",
    "            \n",
    "            model = load_model('cifar10', path)\n",
    "            collected_models[scenario].append(model)\n",
    "\n",
    "        collected_models[scenario] = np.array(collected_models[scenario], dtype=object)\n",
    "            \n",
    "    return collected_models"
   ]
  },
  {
   "cell_type": "code",
   "execution_count": 15,
   "id": "6ceb4d8a",
   "metadata": {},
   "outputs": [
    {
     "name": "stdout",
     "output_type": "stream",
     "text": [
      "Files already downloaded and verified\n",
      "Files already downloaded and verified\n"
     ]
    },
    {
     "data": {
      "application/vnd.jupyter.widget-view+json": {
       "model_id": "07acb017b92648b58a8d30291fd0a33b",
       "version_major": 2,
       "version_minor": 0
      },
      "text/plain": [
       "scenario:   0%|          | 0/3 [00:00<?, ?it/s]"
      ]
     },
     "metadata": {},
     "output_type": "display_data"
    },
    {
     "data": {
      "application/vnd.jupyter.widget-view+json": {
       "model_id": "7702813cf80c4dad8eb2442dbce5a0d5",
       "version_major": 2,
       "version_minor": 0
      },
      "text/plain": [
       "model:   0%|          | 0/100 [00:00<?, ?it/s]"
      ]
     },
     "metadata": {},
     "output_type": "display_data"
    },
    {
     "data": {
      "application/vnd.jupyter.widget-view+json": {
       "model_id": "4ed2e1adf4754c0f88faef9c56be1769",
       "version_major": 2,
       "version_minor": 0
      },
      "text/plain": [
       "model:   0%|          | 0/100 [00:00<?, ?it/s]"
      ]
     },
     "metadata": {},
     "output_type": "display_data"
    },
    {
     "data": {
      "application/vnd.jupyter.widget-view+json": {
       "model_id": "30f5c6430a3d411d8af7cc1fdb408927",
       "version_major": 2,
       "version_minor": 0
      },
      "text/plain": [
       "model:   0%|          | 0/100 [00:00<?, ?it/s]"
      ]
     },
     "metadata": {},
     "output_type": "display_data"
    }
   ],
   "source": [
    "train_models = collect_models()"
   ]
  },
  {
   "cell_type": "markdown",
   "id": "686b3c98",
   "metadata": {},
   "source": [
    "Feature vectors are a combination of two kinds of features. The first set (originating from `matt_modified_scores`) uses reference models and reference statistics between a given model and these reference models. The second set of features, originating from `custom_feature_collection`, does not use any additional reference models.\n",
    "\n",
    "For Purchase100: without the reference-model-based features, the attack had a maximum TPR@0.1FPR of $\\approx0.13$, and immediately jumped to $0.15$ with the inclusion of those reference-model-based features. Additional experimentation with the meta-classifier itself bumped performance further up to $>0.16$. My experience with these MI attacks has been that the choice of meta-classifier also matters. Most of the MI-related papers I looked at use LR-based models when dealing with features. It thus might be worthwhile to spend some time on feature engineering (using the same set of raw features) and meta-classifier optimization."
   ]
  },
  {
   "cell_type": "code",
   "execution_count": 21,
   "id": "c26ec6fe",
   "metadata": {},
   "outputs": [
    {
     "name": "stdout",
     "output_type": "stream",
     "text": [
      "Files already downloaded and verified\n",
      "Files already downloaded and verified\n"
     ]
    },
    {
     "data": {
      "application/vnd.jupyter.widget-view+json": {
       "model_id": "9bb89dc8028a4f49a1151144da3b99c1",
       "version_major": 2,
       "version_minor": 0
      },
      "text/plain": [
       "scenario:   0%|          | 0/3 [00:00<?, ?it/s]"
      ]
     },
     "metadata": {},
     "output_type": "display_data"
    },
    {
     "data": {
      "application/vnd.jupyter.widget-view+json": {
       "model_id": "cec8fb4026b24f1ca1af892d16e969a6",
       "version_major": 2,
       "version_minor": 0
      },
      "text/plain": [
       "model:   0%|          | 0/100 [00:00<?, ?it/s]"
      ]
     },
     "metadata": {},
     "output_type": "display_data"
    },
    {
     "data": {
      "application/vnd.jupyter.widget-view+json": {
       "model_id": "863a5df2c4d14e2eb1e5e4719ce0f186",
       "version_major": 2,
       "version_minor": 0
      },
      "text/plain": [
       "model:   0%|          | 0/100 [00:00<?, ?it/s]"
      ]
     },
     "metadata": {},
     "output_type": "display_data"
    },
    {
     "data": {
      "application/vnd.jupyter.widget-view+json": {
       "model_id": "ce84b9ac9eff4d02896cd5a6ea8e3edc",
       "version_major": 2,
       "version_minor": 0
      },
      "text/plain": [
       "model:   0%|          | 0/100 [00:00<?, ?it/s]"
      ]
     },
     "metadata": {},
     "output_type": "display_data"
    }
   ],
   "source": [
    "CHALLENGE = \"cifar10\"\n",
    "scenarios = os.listdir(CHALLENGE)\n",
    "phase = \"train\"\n",
    "dataset = load_cifar10(dataset_dir=\"/u/as9rw/work/MICO/data\")\n",
    "LEN_TRAINING = 50000\n",
    "LEN_CHALLENGE = 100\n",
    "\n",
    "X_for_meta, Y_for_meta = {}, {}\n",
    "num_use_others = 25 # 50 worked best, but too slow\n",
    "\n",
    "# Check performance of approach on (1, n-1) models from train\n",
    "for scenario in tqdm(scenarios, desc=\"scenario\"):\n",
    "    use_dp = not scenario.endswith('_inf')\n",
    "    preds_all = []\n",
    "    scores_all = []\n",
    "    root = os.path.join(CHALLENGE, scenario, phase)\n",
    "    all_except = np.arange(100)\n",
    "\n",
    "    for i, model_folder in tqdm(enumerate(sorted(os.listdir(root), key=lambda d: int(d.split('_')[1]))), desc=\"model\", total=100):\n",
    "        path = os.path.join(root, model_folder)\n",
    "        challenge_dataset = ChallengeDataset.from_path(path, dataset=dataset, len_training=LEN_TRAINING)\n",
    "        challenge_points = challenge_dataset.get_challenges()\n",
    "        \n",
    "        challenge_dataloader = torch.utils.data.DataLoader(challenge_points, batch_size=2*LEN_CHALLENGE)\n",
    "        features, labels = next(iter(challenge_dataloader))\n",
    "        features, labels = features.cuda(), labels.cuda()\n",
    "            \n",
    "        model = load_model('cifar10', path)\n",
    "        model.cuda()\n",
    "        features, labels = features.cuda(), labels.cuda()\n",
    "        # Look at all models except this one\n",
    "        other_models = train_models[scenario][np.delete(all_except, i)]\n",
    "        # Pick random models\n",
    "        other_models = np.random.choice(other_models, num_use_others, replace=False)\n",
    "        other_models = [x.cuda() for x in other_models]\n",
    "\n",
    "        features_collected = np.array([matt_modified_scores(model, features, labels, other_model) for other_model in other_models])\n",
    "        scores = extract_features_for_reference_models(features_collected)\n",
    "        other_features = custom_feature_collection(model, features, labels, use_dp = use_dp)\n",
    "        scores = np.concatenate((scores, other_features), 1)\n",
    "\n",
    "        mem_labels = challenge_dataset.get_solutions()\n",
    "\n",
    "        # Store\n",
    "        preds_all.append(mem_labels)\n",
    "        scores_all.append(scores)\n",
    "    \n",
    "    preds_all = np.concatenate(preds_all)\n",
    "    scores_all = np.concatenate(scores_all)\n",
    "    \n",
    "    X_for_meta[scenario] = scores_all\n",
    "    Y_for_meta[scenario] = preds_all"
   ]
  },
  {
   "cell_type": "markdown",
   "id": "8c032172",
   "metadata": {},
   "source": [
    "Use auto-sklearn (an automl package does does pipeline, optimizer, and hyper-param optimization for you) worked out best, second to using random-forest classifiers. In all scenarios, training classifiers separately for the different scenarios (no, low, high DP) worked better than training a single classifier, even when the scenario is explicitly provided as an input feature (one-hot encoding)."
   ]
  },
  {
   "cell_type": "code",
   "execution_count": 44,
   "id": "3cdda6ba",
   "metadata": {},
   "outputs": [
    {
     "name": "stdout",
     "output_type": "stream",
     "text": [
      "[WARNING] [2023-01-31 09:30:49,787:Client-EnsembleBuilder] No runs were available to build an ensemble from\n",
      "cifar10_hi AUC (train): 0.59659840625\n"
     ]
    },
    {
     "data": {
      "text/html": [
       "<div>\n",
       "<style scoped>\n",
       "    .dataframe tbody tr th:only-of-type {\n",
       "        vertical-align: middle;\n",
       "    }\n",
       "\n",
       "    .dataframe tbody tr th {\n",
       "        vertical-align: top;\n",
       "    }\n",
       "\n",
       "    .dataframe thead th {\n",
       "        text-align: right;\n",
       "    }\n",
       "</style>\n",
       "<table border=\"1\" class=\"dataframe\">\n",
       "  <thead>\n",
       "    <tr style=\"text-align: right;\">\n",
       "      <th></th>\n",
       "      <th>TPR_FPR_10</th>\n",
       "      <th>TPR_FPR_100</th>\n",
       "      <th>TPR_FPR_500</th>\n",
       "      <th>TPR_FPR_1000</th>\n",
       "      <th>TPR_FPR_1500</th>\n",
       "      <th>TPR_FPR_2000</th>\n",
       "      <th>AUC</th>\n",
       "      <th>MIA</th>\n",
       "      <th>accuracy</th>\n",
       "    </tr>\n",
       "  </thead>\n",
       "  <tbody>\n",
       "    <tr>\n",
       "      <th>0</th>\n",
       "      <td>0.0</td>\n",
       "      <td>0.0125</td>\n",
       "      <td>0.061</td>\n",
       "      <td>0.146</td>\n",
       "      <td>0.204</td>\n",
       "      <td>0.257</td>\n",
       "      <td>0.560448</td>\n",
       "      <td>0.0895</td>\n",
       "      <td>0.54475</td>\n",
       "    </tr>\n",
       "  </tbody>\n",
       "</table>\n",
       "</div>"
      ],
      "text/plain": [
       "   TPR_FPR_10  TPR_FPR_100  TPR_FPR_500  TPR_FPR_1000  TPR_FPR_1500  \\\n",
       "0         0.0       0.0125        0.061         0.146         0.204   \n",
       "\n",
       "   TPR_FPR_2000       AUC     MIA  accuracy  \n",
       "0         0.257  0.560448  0.0895   0.54475  "
      ]
     },
     "metadata": {},
     "output_type": "display_data"
    },
    {
     "name": "stdout",
     "output_type": "stream",
     "text": [
      "[WARNING] [2023-01-31 09:36:36,774:Client-EnsembleBuilder] No runs were available to build an ensemble from\n",
      "cifar10_lo AUC (train): 0.5643315\n"
     ]
    },
    {
     "data": {
      "text/html": [
       "<div>\n",
       "<style scoped>\n",
       "    .dataframe tbody tr th:only-of-type {\n",
       "        vertical-align: middle;\n",
       "    }\n",
       "\n",
       "    .dataframe tbody tr th {\n",
       "        vertical-align: top;\n",
       "    }\n",
       "\n",
       "    .dataframe thead th {\n",
       "        text-align: right;\n",
       "    }\n",
       "</style>\n",
       "<table border=\"1\" class=\"dataframe\">\n",
       "  <thead>\n",
       "    <tr style=\"text-align: right;\">\n",
       "      <th></th>\n",
       "      <th>TPR_FPR_10</th>\n",
       "      <th>TPR_FPR_100</th>\n",
       "      <th>TPR_FPR_500</th>\n",
       "      <th>TPR_FPR_1000</th>\n",
       "      <th>TPR_FPR_1500</th>\n",
       "      <th>TPR_FPR_2000</th>\n",
       "      <th>AUC</th>\n",
       "      <th>MIA</th>\n",
       "      <th>accuracy</th>\n",
       "    </tr>\n",
       "  </thead>\n",
       "  <tbody>\n",
       "    <tr>\n",
       "      <th>0</th>\n",
       "      <td>0.001</td>\n",
       "      <td>0.0155</td>\n",
       "      <td>0.058</td>\n",
       "      <td>0.106</td>\n",
       "      <td>0.1645</td>\n",
       "      <td>0.2145</td>\n",
       "      <td>0.527124</td>\n",
       "      <td>0.048</td>\n",
       "      <td>0.524</td>\n",
       "    </tr>\n",
       "  </tbody>\n",
       "</table>\n",
       "</div>"
      ],
      "text/plain": [
       "   TPR_FPR_10  TPR_FPR_100  TPR_FPR_500  TPR_FPR_1000  TPR_FPR_1500  \\\n",
       "0       0.001       0.0155        0.058         0.106        0.1645   \n",
       "\n",
       "   TPR_FPR_2000       AUC    MIA  accuracy  \n",
       "0        0.2145  0.527124  0.048     0.524  "
      ]
     },
     "metadata": {},
     "output_type": "display_data"
    },
    {
     "name": "stdout",
     "output_type": "stream",
     "text": [
      "[WARNING] [2023-01-31 09:39:33,101:Client-EnsembleBuilder] No runs were available to build an ensemble from\n",
      "cifar10_inf AUC (train): 0.6107555\n"
     ]
    },
    {
     "data": {
      "text/html": [
       "<div>\n",
       "<style scoped>\n",
       "    .dataframe tbody tr th:only-of-type {\n",
       "        vertical-align: middle;\n",
       "    }\n",
       "\n",
       "    .dataframe tbody tr th {\n",
       "        vertical-align: top;\n",
       "    }\n",
       "\n",
       "    .dataframe thead th {\n",
       "        text-align: right;\n",
       "    }\n",
       "</style>\n",
       "<table border=\"1\" class=\"dataframe\">\n",
       "  <thead>\n",
       "    <tr style=\"text-align: right;\">\n",
       "      <th></th>\n",
       "      <th>TPR_FPR_10</th>\n",
       "      <th>TPR_FPR_100</th>\n",
       "      <th>TPR_FPR_500</th>\n",
       "      <th>TPR_FPR_1000</th>\n",
       "      <th>TPR_FPR_1500</th>\n",
       "      <th>TPR_FPR_2000</th>\n",
       "      <th>AUC</th>\n",
       "      <th>MIA</th>\n",
       "      <th>accuracy</th>\n",
       "    </tr>\n",
       "  </thead>\n",
       "  <tbody>\n",
       "    <tr>\n",
       "      <th>0</th>\n",
       "      <td>0.0005</td>\n",
       "      <td>0.022</td>\n",
       "      <td>0.087</td>\n",
       "      <td>0.1785</td>\n",
       "      <td>0.2395</td>\n",
       "      <td>0.2975</td>\n",
       "      <td>0.580789</td>\n",
       "      <td>0.117</td>\n",
       "      <td>0.5585</td>\n",
       "    </tr>\n",
       "  </tbody>\n",
       "</table>\n",
       "</div>"
      ],
      "text/plain": [
       "   TPR_FPR_10  TPR_FPR_100  TPR_FPR_500  TPR_FPR_1000  TPR_FPR_1500  \\\n",
       "0      0.0005        0.022        0.087        0.1785        0.2395   \n",
       "\n",
       "   TPR_FPR_2000       AUC    MIA  accuracy  \n",
       "0        0.2975  0.580789  0.117    0.5585  "
      ]
     },
     "metadata": {},
     "output_type": "display_data"
    },
    {
     "name": "stdout",
     "output_type": "stream",
     "text": [
      "Average score 0.1435\n"
     ]
    }
   ],
   "source": [
    "# Train different meta-classifiers per scenario\n",
    "CHALLENGE = \"cifar10\"\n",
    "scenarios = os.listdir(CHALLENGE)\n",
    "meta_clfs = {x: autosklearn.classification.AutoSklearnClassifier(memory_limit=64 * 1024, time_left_for_this_task=180, metric=autosklearn.metrics.roc_auc) for ii, x in enumerate(X_for_meta.keys())}\n",
    "\n",
    "avg = 0\n",
    "use_all = False\n",
    "for sc in scenarios:\n",
    "    train_split_og, test_split_og = train_test_split(np.arange(100), test_size=20)\n",
    "    train_split = np.concatenate([np.arange(200) + 200 * i for i in train_split_og])\n",
    "    test_split = np.concatenate([np.arange(200) + 200 * i for i in test_split_og])\n",
    "    if use_all:\n",
    "        X_train = X_for_meta[sc]\n",
    "        X_test  = X_for_meta[sc]\n",
    "        y_train = Y_for_meta[sc]\n",
    "        y_test  = Y_for_meta[sc]\n",
    "    else:\n",
    "        X_train = X_for_meta[sc][train_split]\n",
    "        X_test  = X_for_meta[sc][test_split]\n",
    "        y_train = Y_for_meta[sc][train_split]\n",
    "        y_test  = Y_for_meta[sc][test_split]\n",
    "\n",
    "    meta_clfs[sc].fit(X_train, y_train)\n",
    "    preds = meta_clfs[sc].predict_proba(X_test)[:, 1]\n",
    "    preds_train = meta_clfs[sc].predict_proba(X_train)[:, 1]\n",
    "    \n",
    "    print(f\"{sc} AUC (train): {roc_auc_score(y_train, preds_train)}\")\n",
    "    scores = score(y_test, preds)\n",
    "    scores.pop('fpr', None)\n",
    "    scores.pop('tpr', None)\n",
    "    display(pd.DataFrame([scores]))\n",
    "    avg += scores['TPR_FPR_1000']\n",
    "\n",
    "print(\"Average score\", avg / 3)"
   ]
  },
  {
   "cell_type": "markdown",
   "id": "7c65e725",
   "metadata": {},
   "source": [
    "For submissions, I set `use_all` to True (since the autoML classifier already does train-val splits internally). The train-test split above is just for visualization purposes (and to see how well the classifier performs on val data)."
   ]
  },
  {
   "cell_type": "markdown",
   "id": "9b862d30",
   "metadata": {},
   "source": [
    "## Feature Inspection\n",
    "\n",
    "A closer look (via permutation importance) at the features shows some interesting trends. First,the range of gradient alignment values across reference models seem to be most useful (as opposed to min, max, abs-sum). Features like LiRA and gradient norms in the extended-epoch simulation also seem to be important."
   ]
  },
  {
   "cell_type": "code",
   "execution_count": 52,
   "id": "fc0a032b",
   "metadata": {},
   "outputs": [
    {
     "data": {
      "image/png": "[encoded data removed]",
      "text/plain": [
       "<Figure size 640x480 with 1 Axes>"
      ]
     },
     "metadata": {},
     "output_type": "display_data"
    },
    {
     "name": "stdout",
     "output_type": "stream",
     "text": [
      "[12] range_4   : 0.000 +/- 0.000\n",
      "[23] merlin    : 0.000 +/- 0.000\n",
      "[2] min_1     : 0.000 +/- 0.000\n",
      "[3] max_1     : 0.000 +/- 0.000\n",
      "[19] adv_ascent_diff: 0.000 +/- 0.000\n",
      "[18] adv_ascent_loss: 0.000 +/- 0.000\n",
      "[6] min_2     : 0.000 +/- 0.000\n",
      "[7] max_2     : 0.000 +/- 0.000\n",
      "[17] ascent_diff: 0.000 +/- 0.000\n",
      "[10] min_3     : 0.000 +/- 0.000\n",
      "[11] max_3     : 0.000 +/- 0.000\n",
      "[16] ascent_loss: 0.000 +/- 0.000\n",
      "[14] min_4     : 0.000 +/- 0.000\n",
      "[8] range_3   : 0.004 +/- 0.004\n",
      "[25] blindwalk : 0.005 +/- 0.002\n",
      "[4] range_2   : 0.008 +/- 0.005\n",
      "[20] ext_epo_1 : 0.009 +/- 0.005\n",
      "[1] abssum_1  : 0.011 +/- 0.006\n",
      "[0] range_1   : 0.011 +/- 0.004\n",
      "[15] max_4     : 0.023 +/- 0.006\n",
      "[13] abssum_4  : 0.027 +/- 0.005\n",
      "[24] lira      : 0.029 +/- 0.004\n",
      "[5] abssum_2  : 0.032 +/- 0.008\n",
      "[21] ext_epo_2 : 0.037 +/- 0.005\n",
      "[22] ext_epo_3 : 0.044 +/- 0.005\n",
      "[9] abssum_3  : 0.045 +/- 0.007\n"
     ]
    }
   ],
   "source": [
    "from sklearn.inspection import plot_partial_dependence, permutation_importance\n",
    "\n",
    "r = permutation_importance(meta_clfs[\"cifar10_inf\"], X_test, y_test, n_repeats=10, random_state=0)\n",
    "sort_idx = r.importances_mean.argsort()[::-1]\n",
    "\n",
    "labels = []\n",
    "for i in range(4):\n",
    "    labels.append(f\"range_{i+1}\")\n",
    "    labels.append(f\"abssum_{i+1}\")\n",
    "    labels.append(f\"min_{i+1}\")\n",
    "    labels.append(f\"max_{i+1}\")\n",
    "labels.append(\"ascent_loss\")\n",
    "labels.append(\"ascent_diff\")\n",
    "labels.append(\"adv_ascent_loss\")\n",
    "labels.append(\"adv_ascent_diff\")\n",
    "labels.append(\"ext_epo_1\")\n",
    "labels.append(\"ext_epo_2\")\n",
    "labels.append(\"ext_epo_3\")\n",
    "labels.append(\"merlin\")\n",
    "labels.append(\"lira\")\n",
    "labels.append(\"blindwalk\")\n",
    "\n",
    "plt.boxplot(\n",
    "    r.importances[sort_idx].T, labels=[labels[i] for i in sort_idx]\n",
    ")\n",
    "    \n",
    "plt.xticks(rotation=90)\n",
    "plt.tight_layout()\n",
    "plt.show()\n",
    "\n",
    "for i in sort_idx[::-1]:\n",
    "    print(\n",
    "        f\"[{i}] {labels[i]:10s}: {r.importances_mean[i]:.3f} +/- \"\n",
    "        f\"{r.importances_std[i]:.3f}\"\n",
    "    )"
   ]
  },
  {
   "cell_type": "markdown",
   "id": "093c1d2a",
   "metadata": {},
   "source": [
    "## Collect features"
   ]
  },
  {
   "cell_type": "markdown",
   "id": "7688c422",
   "metadata": {},
   "source": [
    "Collect features for all models across scenarios and phases. Helps to re-use features when experiment with different meta-classifiers. No need to re-run for 'train' models, since we already have features for those."
   ]
  },
  {
   "cell_type": "code",
   "execution_count": null,
   "id": "6ab4b245",
   "metadata": {},
   "outputs": [],
   "source": [
    "CHALLENGE = \"cifar10\"\n",
    "LEN_TRAINING = 50000\n",
    "LEN_CHALLENGE = 100\n",
    "\n",
    "scenarios = os.listdir(CHALLENGE)\n",
    "phases = ['dev', 'final']\n",
    "stored_features = {}\n",
    "\n",
    "dataset = load_cifar10(dataset_dir=\"/u/as9rw/work/MICO/data\")\n",
    "\n",
    "for i, scenario in tqdm(enumerate(scenarios), desc=\"scenario\", total=3):\n",
    "    use_dp = not scenario.endswith('_inf')\n",
    "    stored_features[scenario] = {}\n",
    "    for phase in tqdm(phases, desc=\"phase\"):\n",
    "        stored_features[scenario][phase] = []\n",
    "        root = os.path.join(CHALLENGE, scenario, phase)\n",
    "        all_except = np.arange(100)\n",
    "        for j, model_folder in tqdm(enumerate(sorted(os.listdir(root), key=lambda d: int(d.split('_')[1]))), desc=\"model\", total=len(os.listdir(root))):\n",
    "            path = os.path.join(root, model_folder)\n",
    "            challenge_dataset = ChallengeDataset.from_path(path, dataset=dataset, len_training=LEN_TRAINING)\n",
    "            challenge_points = challenge_dataset.get_challenges()\n",
    "            \n",
    "            model = load_model('cifar10', path)\n",
    "            challenge_dataloader = torch.utils.data.DataLoader(challenge_points, batch_size=2*LEN_CHALLENGE)\n",
    "            features, labels = next(iter(challenge_dataloader))\n",
    "\n",
    "            model.cuda()\n",
    "            features, labels = features.cuda(), labels.cuda()\n",
    "            # Look at all models except this one\n",
    "            other_models = train_models[scenario][np.delete(all_except, j)]\n",
    "            other_models = np.random.choice(other_models, num_use_others, replace=False)\n",
    "            features_collected = np.array([matt_modified_scores(model, features, labels, other_model.cuda()) for other_model in other_models])\n",
    "            scores = extract_features_for_reference_models(features_collected)\n",
    "            other_features = custom_feature_collection(model, features, labels, use_dp=use_dp)\n",
    "            processed_features = np.concatenate((scores, other_features), 1)\n",
    "\n",
    "            stored_features[scenario][phase].append(processed_features)"
   ]
  },
  {
   "cell_type": "markdown",
   "id": "c8438600",
   "metadata": {},
   "source": [
    "## Generate Predictions"
   ]
  },
  {
   "cell_type": "code",
   "execution_count": null,
   "id": "8e2df9a6",
   "metadata": {},
   "outputs": [],
   "source": [
    "CHALLENGE = \"cifar10\"\n",
    "LEN_TRAINING = 50000\n",
    "LEN_CHALLENGE = 100\n",
    "\n",
    "scenarios = os.listdir(CHALLENGE)\n",
    "phases = ['dev', 'final']\n",
    "\n",
    "dataset = load_cifar10(dataset_dir=\"/u/as9rw/work/MICO/data\")\n",
    "\n",
    "for i, scenario in tqdm(enumerate(scenarios), desc=\"scenario\", total=3):\n",
    "    for phase in tqdm(phases, desc=\"phase\"):\n",
    "        root = os.path.join(CHALLENGE, scenario, phase)\n",
    "        j = 0\n",
    "        for model_folder in tqdm(sorted(os.listdir(root), key=lambda d: int(d.split('_')[1])), desc=\"model\"):\n",
    "            path = os.path.join(root, model_folder)\n",
    "            features_use = stored_features[scenario][phase][j]\n",
    "            # Using scenario-wise meta-classifier\n",
    "            predictions = meta_clfs[scenario].predict_proba(features_use)[:, 1]\n",
    "            j += 1\n",
    "            assert np.all((0 <= predictions) & (predictions <= 1))\n",
    "\n",
    "            with open(os.path.join(path, \"prediction.csv\"), \"w\") as f:\n",
    "                 csv.writer(f).writerow(predictions)"
   ]
  },
  {
   "cell_type": "markdown",
   "id": "3f66e1b8",
   "metadata": {},
   "source": [
    "## Packaging the submission\n",
    "\n",
    "Now we can store the predictions into a zip file, which you can submit to CodaLab."
   ]
  },
  {
   "cell_type": "code",
   "execution_count": null,
   "id": "41f37b2e",
   "metadata": {},
   "outputs": [],
   "source": [
    "import zipfile\n",
    "\n",
    "phases = ['dev', 'final']\n",
    "experiment_name = \"final_submission\"\n",
    "\n",
    "with zipfile.ZipFile(f\"submissions_cifar/{experiment_name}.zip\", 'w') as zipf:\n",
    "    for scenario in tqdm(scenarios, desc=\"scenario\"): \n",
    "        for phase in tqdm(phases, desc=\"phase\"):\n",
    "            root = os.path.join(CHALLENGE, scenario, phase)\n",
    "            for model_folder in tqdm(sorted(os.listdir(root), key=lambda d: int(d.split('_')[1])), desc=\"model\"):\n",
    "                path = os.path.join(root, model_folder)\n",
    "                file = os.path.join(path, \"prediction.csv\")\n",
    "                if os.path.exists(file):\n",
    "                    zipf.write(file)\n",
    "                else:\n",
    "                    raise FileNotFoundError(f\"`prediction.csv` not found in {path}. You need to provide predictions for all challenges\")"
   ]
  },
  {
   "cell_type": "code",
   "execution_count": null,
   "id": "4a67f1da",
   "metadata": {},
   "outputs": [],
   "source": []
  }
 ],
 "metadata": {
  "kernelspec": {
   "display_name": "Python (mico)",
   "language": "python",
   "name": "mico"
  },
  "language_info": {
   "codemirror_mode": {
    "name": "ipython",
    "version": 3
   },
   "file_extension": ".py",
   "mimetype": "text/x-python",
   "name": "python",
   "nbconvert_exporter": "python",
   "pygments_lexer": "ipython3",
   "version": "3.8.13"
  }
 },
 "nbformat": 4,
 "nbformat_minor": 5
}
